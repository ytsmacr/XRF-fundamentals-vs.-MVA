{
 "cells": [
  {
   "cell_type": "code",
   "execution_count": 1,
   "id": "0d0b8e39",
   "metadata": {},
   "outputs": [],
   "source": [
    "import pandas as pd\n",
    "from matplotlib import pyplot as plt\n",
    "\n",
    "folder = 'H:\\\\My Drive\\\\PROJECTS\\\\PSI 2022-2025\\\\XRF fundamentals vs. MVA'"
   ]
  },
  {
   "cell_type": "code",
   "execution_count": 8,
   "id": "c84302fa",
   "metadata": {},
   "outputs": [],
   "source": [
    "summary = pd.read_csv(f'{folder}\\\\data\\\\dataset_summary.csv')\n",
    "df = pd.read_csv(f'{folder}\\\\models\\\\cumulative_modelling_train_test_results.csv')\n",
    "# drop PCR-py, I shouldn't have run it\n",
    "test_df = df[df['model type']!='PCR-py'].copy().reset_index(drop=True)\n",
    "\n",
    "# get %RMSEP from median concentration\n",
    "test_df = test_df.merge(summary[['element','median']], how='left', left_on='variable', right_on='element').drop(columns='element')\n",
    "for var in ['RMSE-P','RMSE-CV','RMSE-C']:\n",
    "    test_df['%'+var] = (test_df[var] / test_df['median'])*100\n",
    "test_df.drop(columns='median', inplace=True)\n",
    "\n",
    "# set R2 < 0 to 0\n",
    "for var in ['R2 test','R2 train']:\n",
    "    test_df[var] = [0 if x < 0 else x for x in test_df[var]]\n",
    "    \n",
    "# summarize\n",
    "summary_df = test_df.groupby(['filter','model type'], as_index=False)['%RMSE-P'].mean().rename(columns={'%RMSE-P':'mean_%RMSE-P'})\n",
    "summary_df['stdev_%RMSE-P'] = list(test_df.groupby(['filter','model type'])['%RMSE-P'].std())\n",
    "\n",
    "# sort based on my choice\n",
    "summary_df['model_cat'] = pd.Categorical(\n",
    "    summary_df['model type'], \n",
    "    categories=['OLS','PLS','LASSO','Ridge','ElasticNet','OMP','PCR-lin'], \n",
    "    ordered=True\n",
    ")\n",
    "summary_df = summary_df.sort_values('model_cat', ignore_index=True)\n",
    "summary_df.to_csv(f'{folder}\\\\models\\\\summarized_results.csv', index=False)"
   ]
  },
  {
   "cell_type": "code",
   "execution_count": 10,
   "id": "a23f69b1",
   "metadata": {},
   "outputs": [
    {
     "name": "stderr",
     "output_type": "stream",
     "text": [
      "The PostScript backend does not support transparency; partially transparent artists will be rendered opaque.\n",
      "The PostScript backend does not support transparency; partially transparent artists will be rendered opaque.\n",
      "The PostScript backend does not support transparency; partially transparent artists will be rendered opaque.\n",
      "The PostScript backend does not support transparency; partially transparent artists will be rendered opaque.\n",
      "The PostScript backend does not support transparency; partially transparent artists will be rendered opaque.\n",
      "The PostScript backend does not support transparency; partially transparent artists will be rendered opaque.\n",
      "The PostScript backend does not support transparency; partially transparent artists will be rendered opaque.\n",
      "The PostScript backend does not support transparency; partially transparent artists will be rendered opaque.\n",
      "The PostScript backend does not support transparency; partially transparent artists will be rendered opaque.\n",
      "The PostScript backend does not support transparency; partially transparent artists will be rendered opaque.\n",
      "The PostScript backend does not support transparency; partially transparent artists will be rendered opaque.\n",
      "The PostScript backend does not support transparency; partially transparent artists will be rendered opaque.\n",
      "The PostScript backend does not support transparency; partially transparent artists will be rendered opaque.\n",
      "The PostScript backend does not support transparency; partially transparent artists will be rendered opaque.\n",
      "The PostScript backend does not support transparency; partially transparent artists will be rendered opaque.\n",
      "The PostScript backend does not support transparency; partially transparent artists will be rendered opaque.\n",
      "The PostScript backend does not support transparency; partially transparent artists will be rendered opaque.\n",
      "The PostScript backend does not support transparency; partially transparent artists will be rendered opaque.\n",
      "The PostScript backend does not support transparency; partially transparent artists will be rendered opaque.\n",
      "The PostScript backend does not support transparency; partially transparent artists will be rendered opaque.\n",
      "The PostScript backend does not support transparency; partially transparent artists will be rendered opaque.\n",
      "The PostScript backend does not support transparency; partially transparent artists will be rendered opaque.\n",
      "The PostScript backend does not support transparency; partially transparent artists will be rendered opaque.\n",
      "The PostScript backend does not support transparency; partially transparent artists will be rendered opaque.\n",
      "The PostScript backend does not support transparency; partially transparent artists will be rendered opaque.\n",
      "The PostScript backend does not support transparency; partially transparent artists will be rendered opaque.\n",
      "The PostScript backend does not support transparency; partially transparent artists will be rendered opaque.\n",
      "The PostScript backend does not support transparency; partially transparent artists will be rendered opaque.\n",
      "The PostScript backend does not support transparency; partially transparent artists will be rendered opaque.\n",
      "The PostScript backend does not support transparency; partially transparent artists will be rendered opaque.\n",
      "The PostScript backend does not support transparency; partially transparent artists will be rendered opaque.\n",
      "The PostScript backend does not support transparency; partially transparent artists will be rendered opaque.\n",
      "The PostScript backend does not support transparency; partially transparent artists will be rendered opaque.\n",
      "The PostScript backend does not support transparency; partially transparent artists will be rendered opaque.\n",
      "The PostScript backend does not support transparency; partially transparent artists will be rendered opaque.\n",
      "The PostScript backend does not support transparency; partially transparent artists will be rendered opaque.\n",
      "The PostScript backend does not support transparency; partially transparent artists will be rendered opaque.\n",
      "The PostScript backend does not support transparency; partially transparent artists will be rendered opaque.\n",
      "The PostScript backend does not support transparency; partially transparent artists will be rendered opaque.\n",
      "The PostScript backend does not support transparency; partially transparent artists will be rendered opaque.\n",
      "The PostScript backend does not support transparency; partially transparent artists will be rendered opaque.\n",
      "The PostScript backend does not support transparency; partially transparent artists will be rendered opaque.\n",
      "The PostScript backend does not support transparency; partially transparent artists will be rendered opaque.\n",
      "The PostScript backend does not support transparency; partially transparent artists will be rendered opaque.\n"
     ]
    }
   ],
   "source": [
    "cs=['#dead08','#1b6f78','#78241b']\n",
    "\n",
    "fig,ax = plt.subplots(figsize=(10,6))\n",
    "\n",
    "i=0\n",
    "for f in summary_df['filter'].unique():\n",
    "    temp = summary_df[(summary_df['filter']==f)].copy()\n",
    "\n",
    "    ax.plot(temp['model type'], temp['mean_%RMSE-P'], color=cs[i], label=f)\n",
    "    ax.errorbar(temp['model type'], temp['mean_%RMSE-P'], capsize=2, alpha=0.5, color=cs[i], yerr=temp['stdev_%RMSE-P'])\n",
    "    i+=1\n",
    "    \n",
    "ax.semilogy()\n",
    "plt.legend()\n",
    "plt.savefig(f'{folder}\\\\figures\\\\model_comparison.eps', dpi=600)\n",
    "plt.close()"
   ]
  },
  {
   "cell_type": "code",
   "execution_count": 12,
   "id": "c1aa83ef",
   "metadata": {},
   "outputs": [
    {
     "name": "stderr",
     "output_type": "stream",
     "text": [
      "The PostScript backend does not support transparency; partially transparent artists will be rendered opaque.\n",
      "The PostScript backend does not support transparency; partially transparent artists will be rendered opaque.\n",
      "The PostScript backend does not support transparency; partially transparent artists will be rendered opaque.\n",
      "The PostScript backend does not support transparency; partially transparent artists will be rendered opaque.\n",
      "The PostScript backend does not support transparency; partially transparent artists will be rendered opaque.\n",
      "The PostScript backend does not support transparency; partially transparent artists will be rendered opaque.\n",
      "The PostScript backend does not support transparency; partially transparent artists will be rendered opaque.\n",
      "The PostScript backend does not support transparency; partially transparent artists will be rendered opaque.\n",
      "The PostScript backend does not support transparency; partially transparent artists will be rendered opaque.\n",
      "The PostScript backend does not support transparency; partially transparent artists will be rendered opaque.\n",
      "The PostScript backend does not support transparency; partially transparent artists will be rendered opaque.\n",
      "The PostScript backend does not support transparency; partially transparent artists will be rendered opaque.\n",
      "The PostScript backend does not support transparency; partially transparent artists will be rendered opaque.\n",
      "The PostScript backend does not support transparency; partially transparent artists will be rendered opaque.\n",
      "The PostScript backend does not support transparency; partially transparent artists will be rendered opaque.\n",
      "The PostScript backend does not support transparency; partially transparent artists will be rendered opaque.\n",
      "The PostScript backend does not support transparency; partially transparent artists will be rendered opaque.\n",
      "The PostScript backend does not support transparency; partially transparent artists will be rendered opaque.\n",
      "The PostScript backend does not support transparency; partially transparent artists will be rendered opaque.\n",
      "The PostScript backend does not support transparency; partially transparent artists will be rendered opaque.\n",
      "The PostScript backend does not support transparency; partially transparent artists will be rendered opaque.\n",
      "The PostScript backend does not support transparency; partially transparent artists will be rendered opaque.\n"
     ]
    }
   ],
   "source": [
    "# zoom in plot\n",
    "zoom = ['PLS','LASSO','Ridge','ElasticNet']\n",
    "df1_zoom = df1[df1['model type'].isin(zoom)].copy()\n",
    "df2_zoom = df2[df2['model type'].isin(zoom)].copy()\n",
    "\n",
    "fig,ax = plt.subplots(figsize=(6,4))\n",
    "\n",
    "ax.plot(df1_zoom['model type'], df1_zoom['mean_%RMSE-P'], color='#dead08', label='Filter 1')\n",
    "ax.errorbar(df1_zoom['model type'], df1_zoom['mean_%RMSE-P'], capsize=2, alpha=0.5, color='#dead08', yerr=df1_zoom['stdev_%RMSE-P'])\n",
    "\n",
    "ax.plot(df2_zoom['model type'], df2_zoom['mean_%RMSE-P'], color='#1b6f78', label='Filter 2')\n",
    "ax.errorbar(df2_zoom['model type'], df2_zoom['mean_%RMSE-P'], capsize=2, alpha=0.5, color='#1b6f78', yerr=df2_zoom['stdev_%RMSE-P'])\n",
    "\n",
    "ax.semilogy()\n",
    "\n",
    "plt.savefig(f'{folder}\\\\figures\\\\model_comparison_zoom.eps', dpi=600)\n",
    "plt.close()"
   ]
  },
  {
   "cell_type": "markdown",
   "id": "130a7d0b",
   "metadata": {},
   "source": [
    "### compare Filter 1 and 2 for elements\n",
    "using PLS"
   ]
  },
  {
   "cell_type": "code",
   "execution_count": null,
   "id": "c33bca61",
   "metadata": {},
   "outputs": [],
   "source": [
    " "
   ]
  }
 ],
 "metadata": {
  "kernelspec": {
   "display_name": "Python 3 (ipykernel)",
   "language": "python",
   "name": "python3"
  },
  "language_info": {
   "codemirror_mode": {
    "name": "ipython",
    "version": 3
   },
   "file_extension": ".py",
   "mimetype": "text/x-python",
   "name": "python",
   "nbconvert_exporter": "python",
   "pygments_lexer": "ipython3",
   "version": "3.8.13"
  }
 },
 "nbformat": 4,
 "nbformat_minor": 5
}
