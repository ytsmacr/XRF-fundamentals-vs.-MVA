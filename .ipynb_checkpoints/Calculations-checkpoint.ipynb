{
 "cells": [
  {
   "cell_type": "code",
   "execution_count": 1,
   "id": "c9e78671",
   "metadata": {},
   "outputs": [
    {
     "name": "stdout",
     "output_type": "stream",
     "text": [
      "pandas version 1.3.2\n"
     ]
    }
   ],
   "source": [
    "import pandas as pd\n",
    "from tqdm.notebook import tqdm\n",
    "\n",
    "# get version\n",
    "print(\"pandas version\",pd.__version__)\n",
    "\n",
    "fp = \"G:\\\\My Drive\\\\Darby Work\\\\XRF fundamentals vs. MVA\\\\\""
   ]
  },
  {
   "cell_type": "code",
   "execution_count": 2,
   "id": "befd5b6f",
   "metadata": {},
   "outputs": [],
   "source": [
    "spectra_path = \"Z:\\\\data_pXRF\\\\MHC_Olympus_spectra.csv\"\n",
    "spectra = pd.read_csv(spectra_path)\n",
    "\n",
    "metadata_path = \"Z:\\\\data_pXRF\\\\MHC_Olympus_metadata.csv\"\n",
    "metadata = pd.read_csv(metadata_path)"
   ]
  },
  {
   "cell_type": "code",
   "execution_count": 3,
   "id": "001c0872",
   "metadata": {},
   "outputs": [],
   "source": [
    "# select samples with olympus predictions\n",
    "pred_samples = list(metadata[\n",
    "    metadata['Olympus-Predicted'] == 'yes'\n",
    "]['pkey'])\n",
    "\n",
    "# add wave column\n",
    "pred_samples.insert(0, 'wave')\n",
    "\n",
    "\n",
    "pred_spectra = spectra.filter(\n",
    "    items = pred_samples\n",
    ")"
   ]
  },
  {
   "cell_type": "code",
   "execution_count": 5,
   "id": "64c26e60",
   "metadata": {},
   "outputs": [],
   "source": [
    "o1_spectra = pred_spectra.filter(regex=('(_1$)|(wave)'), axis=1)\n",
    "o2_spectra = pred_spectra.filter(regex=('(_2$)|(wave)'), axis=1)"
   ]
  },
  {
   "cell_type": "markdown",
   "id": "de724041",
   "metadata": {},
   "source": [
    "## Sensitivity"
   ]
  },
  {
   "cell_type": "code",
   "execution_count": 4,
   "id": "48482b59",
   "metadata": {},
   "outputs": [],
   "source": [
    "noise_path = fp+\"Braga noise regions.csv\"\n",
    "noise = pd.read_csv(noise_path)"
   ]
  },
  {
   "cell_type": "code",
   "execution_count": 6,
   "id": "950cc979",
   "metadata": {},
   "outputs": [
    {
     "name": "stdout",
     "output_type": "stream",
     "text": [
      "Datasets cleaned:\n"
     ]
    },
    {
     "data": {
      "application/vnd.jupyter.widget-view+json": {
       "model_id": "97010813de254584b0e5fb2ac6d0d597",
       "version_major": 2,
       "version_minor": 0
      },
      "text/plain": [
       "  0%|          | 0/2 [00:00<?, ?it/s]"
      ]
     },
     "metadata": {},
     "output_type": "display_data"
    },
    {
     "name": "stdout",
     "output_type": "stream",
     "text": [
      "Rows cleaned:\n"
     ]
    },
    {
     "data": {
      "application/vnd.jupyter.widget-view+json": {
       "model_id": "c31cc05270a54dc29534ff52dee88d6f",
       "version_major": 2,
       "version_minor": 0
      },
      "text/plain": [
       "  0%|          | 0/2042 [00:00<?, ?it/s]"
      ]
     },
     "metadata": {},
     "output_type": "display_data"
    },
    {
     "name": "stderr",
     "output_type": "stream",
     "text": [
      "C:\\Users\\ytsma22c\\Anaconda3\\lib\\site-packages\\pandas\\core\\frame.py:4901: SettingWithCopyWarning: \n",
      "A value is trying to be set on a copy of a slice from a DataFrame\n",
      "\n",
      "See the caveats in the documentation: https://pandas.pydata.org/pandas-docs/stable/user_guide/indexing.html#returning-a-view-versus-a-copy\n",
      "  return super().drop(\n"
     ]
    },
    {
     "name": "stdout",
     "output_type": "stream",
     "text": [
      "Rows cleaned:\n"
     ]
    },
    {
     "data": {
      "application/vnd.jupyter.widget-view+json": {
       "model_id": "16b9cb87287f427c9a754af0a4804b97",
       "version_major": 2,
       "version_minor": 0
      },
      "text/plain": [
       "  0%|          | 0/2042 [00:00<?, ?it/s]"
      ]
     },
     "metadata": {},
     "output_type": "display_data"
    }
   ],
   "source": [
    "print(\"Datasets cleaned:\")\n",
    "count = 0\n",
    "for df in tqdm([o1_spectra, o2_spectra]):\n",
    "   \n",
    "    if count == 0:\n",
    "        noise_temp = noise[noise['Filter'] == 1].reset_index(drop=True)\n",
    "    else: noise_temp = noise[noise['Filter'] == 2].reset_index(drop=True)\n",
    "    count += 1\n",
    "        \n",
    "    print(\"Rows cleaned:\") \n",
    "    for row in tqdm(df.index):\n",
    "        nm = df['wave'][row]\n",
    "        # remove rows below first region\n",
    "        if nm < noise_temp['Start'][0]:\n",
    "            df.drop(row, axis = 'index', inplace=True)\n",
    "        # remove rows after last region\n",
    "        elif nm > noise_temp['Stop'][len(noise_temp)-1]:\n",
    "            df.drop(row, axis = 'index', inplace=True)\n",
    "        # remove rows between the regions\n",
    "        for region in range(len(noise_temp)-1):\n",
    "            if (nm > noise_temp['Stop'][region]) & (nm < noise_temp['Start'][region+1]):\n",
    "                df.drop(row, axis = 'index', inplace=True)"
   ]
  },
  {
   "cell_type": "code",
   "execution_count": 7,
   "id": "a2cb4841",
   "metadata": {},
   "outputs": [],
   "source": [
    "o1_sens = round(o1_spectra.set_index('wave').std(axis=1).mean(),3)\n",
    "o2_sens = round(o2_spectra.set_index('wave').std(axis=1).mean(),3)"
   ]
  },
  {
   "cell_type": "code",
   "execution_count": 8,
   "id": "6be0ad0a",
   "metadata": {},
   "outputs": [
    {
     "name": "stdout",
     "output_type": "stream",
     "text": [
      "Filter 1 sensitivity: 261.024 \n",
      "Filter 2 sensitivity: 159.383\n"
     ]
    }
   ],
   "source": [
    "print(\"Filter 1 sensitivity:\", o1_sens, \n",
    "      \"\\nFilter 2 sensitivity:\",o2_sens)"
   ]
  },
  {
   "cell_type": "markdown",
   "id": "56705635",
   "metadata": {},
   "source": [
    "### Function to calculate LBDQs from model and instrument sensitivity"
   ]
  },
  {
   "cell_type": "code",
   "execution_count": null,
   "id": "e4430a04",
   "metadata": {},
   "outputs": [],
   "source": [
    "def get_lbdq(folder, file_list):\n",
    "    \n",
    "    print(\"LBDQ:\")\n",
    "    \n",
    "    for filter_n in ['O1', 'O2']:\n",
    "        \n",
    "        # get sensitivity value\n",
    "        sensitivity = o1_sens if filter_n == 'O1' else o2_sens\n",
    "        \n",
    "        coeffs = []\n",
    "        ftype = filter_n + \"_coeff\"\n",
    "\n",
    "        # read models\n",
    "        for file in tqdm(file_list):\n",
    "            if ftype in file:       \n",
    "                path = folder + file\n",
    "                data = pd.read_csv(path, skiprows = [0])\n",
    "                coeffs.append(data)\n",
    "\n",
    "        # convert to dataframe\n",
    "        coeffs = pd.concat(coeffs).T\n",
    "\n",
    "        # adapt to different element naming b/w datasets\n",
    "        coeffs.columns = coeffs.iloc[0].map(lambda x: x.split()[0])\n",
    "\n",
    "        coeffs = coeffs.drop(coeffs.index[0])\n",
    "\n",
    "        # calculate regression vectors\n",
    "        vector_list = coeffs.pow(2).sum().pow(.5)  #square root of sum of squares\n",
    "\n",
    "        # populate lists\n",
    "        elem_list = coeffs.columns\n",
    "        filt_list = list(filter_n * len(elem_list))\n",
    "\n",
    "        df = pd.DataFrame({'element' : elem_list,\n",
    "                           'vector' : vector_list,\n",
    "                           'filter' : filt_list\n",
    "        }).reset_index(drop = True)\n",
    "\n",
    "        # calculate values\n",
    "        types = ['LOB', 'LOD', 'LOQ']\n",
    "        factors = [1.645, 3.3, 10]\n",
    "\n",
    "        for i in range(len(types)):\n",
    "            df[types[i]] = factors[i] * sensitivity * df['vector']\n",
    "\n",
    "        # change col formats\n",
    "        cols = df.columns.drop('element')\n",
    "        df[cols] = df[cols].apply(pd.to_numeric)\n",
    "        df['element'] = df['element'].astype(str)\n",
    "\n",
    "        return df"
   ]
  },
  {
   "cell_type": "markdown",
   "id": "aa5b966f",
   "metadata": {},
   "source": [
    "### Function to calculate RMSEPs"
   ]
  },
  {
   "cell_type": "code",
   "execution_count": null,
   "id": "57b80c16",
   "metadata": {},
   "outputs": [],
   "source": [
    "majors = ['Al2O3', 'CaO', 'Fe2O3', 'MgO', 'MnO', 'P2O5', 'SiO2', 'TiO2']\n",
    "\n",
    "def get_rmsep(folder, file_list, comps, filter_n lbdq):\n",
    "    \n",
    "    print(\"RMSEP:\")\n",
    "    \n",
    "    elem_list = []\n",
    "    avg_list = []\n",
    "    rmsep_list = []\n",
    "    r2_list = []\n",
    "    \n",
    "    ftype = filter_n + \"_test\"\n",
    "    \n",
    "    for file in tqdm(file_list):\n",
    "        if ftype in file:       \n",
    "            path = (folder + file)\n",
    "            data = pd.read_csv(path)\n",
    "            \n",
    "            # get element\n",
    "            element = data.columns[1].split()[0]\n",
    "            elem_list.append(element)\n",
    "            \n",
    "            # format columns\n",
    "            data.columns = ['pkey', 'Actual', 'Pred']\n",
    "            data = data.drop([0])\n",
    "            data.Pred = data.Pred.astype(float)  \n",
    "            \n",
    "            # remove predictions above 100 for majors\n",
    "            if element in majors:\n",
    "                data = data[data.Pred < 100]\n",
    "                \n",
    "            # remove all predictions below 0\n",
    "            data = data[data.Pred > 0].reset_index(drop=True).sort_index(axis=1)\n",
    "                   \n",
    "            # order columns\n",
    "            data = data[['pkey', 'Actual', 'Pred']].drop_duplicates(subset = 'pkey').sort_values(by='pkey').reset_index(drop=True)\n",
    "               \n",
    "            # subselect relevant reference values\n",
    "            ref = lbdq[lbdq.element == element].reset_index(drop=True)\n",
    "\n",
    "            # add in Actual concentrations\n",
    "            temp_comps = comps[comps.pkey.isin(data.pkey)].reset_index(drop=True) \n",
    "            # note and remove samples that don't have composition info\n",
    "            no_comps = data[~data.pkey.isin(temp_comps.pkey)]\n",
    "            if len(no_comps) > 0:\n",
    "                no_comps_list.append(list(no_comps.pkey)) # add to list\n",
    "                data = pd.concat([data, no_comps]).drop_duplicates(keep=False).reset_index(drop=True)\n",
    "            \n",
    "            data['Actual'] = temp_comps[temp_comps['pkey'] == data['pkey']][element]\n",
    "            \n",
    "            # remove NaN Actual values....which idk why they'd be there\n",
    "            data = data.dropna()\n",
    "            \n",
    "            # calculate values\n",
    "            loq = ref['LOQ'].iloc[0]\n",
    "            # select just predictions above the LOQ\n",
    "            data = data[data.Pred > loq].reset_index(drop=True)\n",
    "            # get average concentration\n",
    "            avg = data['Actual'].mean()\n",
    "            avg_list.append(avg)\n",
    "            # get R2\n",
    "            r2 = r2_score(data.Actual, data.Pred)\n",
    "            r2_list.append(r2)\n",
    "            # get RMSE-P\n",
    "            data['sqerror'] = (data.Actual - data.Pred).pow(2)\n",
    "            rmsep = data['sqerror'].mean() ** 0.5\n",
    "            rmsep_list.append(rmsep)\n",
    "\n",
    "    \n",
    "    df = pd.DataFrame({\n",
    "        \"element\" : elem_list,\n",
    "        \"Avg\" : avg_braga_list,\n",
    "        \"RMSEP\" : rmsep_braga_list,\n",
    "        \"R2\" : r2_braga_list,\n",
    "    })\n",
    "    \n",
    "    # give list of samples without comps\n",
    "    no_comps_list = [item for sublist in no_comps_list for item in sublist]\n",
    "    no_comps_list = list(set(no_comps_list))\n",
    "    if len(no_comps_list) > 0: print(\"Sample(s)\", str(no_comps_list), \"have no composition info and were removed\")\n",
    "    \n",
    "    return df"
   ]
  },
  {
   "cell_type": "code",
   "execution_count": null,
   "id": "2f1bb8ee",
   "metadata": {},
   "outputs": [],
   "source": [
    "def get_results(regression, n_range):\n",
    "    \n",
    "    print('Calculating for', regression, n_range)\n",
    "\n",
    "    folder = fp+\"\\\\models\\\\\"+regression+\"\\\\\"+n_range+\"\\\\\"\n",
    "    file_list = os.listdir(folder)\n",
    "\n",
    "    # calculate lbdq\n",
    "    lbdq = get_lbdq(folder, file_list)\n",
    "    # calculate rmsep with lbdq results\n",
    "    rmsep = get_rmsep(folder, file_list, comps, lbdq)\n",
    "    # merge results\n",
    "    df = pd.merge(lbdq, rmsep, how='outer', on='element')\n",
    "    df.insert(loc=2, column='num_range', value=n_range)\n",
    "    # return full results\n",
    "    return df "
   ]
  }
 ],
 "metadata": {
  "kernelspec": {
   "display_name": "Python 3 (ipykernel)",
   "language": "python",
   "name": "python3"
  },
  "language_info": {
   "codemirror_mode": {
    "name": "ipython",
    "version": 3
   },
   "file_extension": ".py",
   "mimetype": "text/x-python",
   "name": "python",
   "nbconvert_exporter": "python",
   "pygments_lexer": "ipython3",
   "version": "3.8.8"
  }
 },
 "nbformat": 4,
 "nbformat_minor": 5
}
