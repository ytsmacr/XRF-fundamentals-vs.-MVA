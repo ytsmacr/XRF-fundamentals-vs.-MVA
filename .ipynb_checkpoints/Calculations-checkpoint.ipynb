{
 "cells": [
  {
   "cell_type": "code",
   "execution_count": 119,
   "id": "c9e78671",
   "metadata": {},
   "outputs": [
    {
     "name": "stdout",
     "output_type": "stream",
     "text": [
      "pandas version 1.3.2\n"
     ]
    }
   ],
   "source": [
    "import os\n",
    "import pandas as pd\n",
    "from tqdm.notebook import tqdm\n",
    "from sklearn.metrics import r2_score\n",
    "\n",
    "# get version\n",
    "print(\"pandas version\",pd.__version__)\n",
    "\n",
    "fp = \"G:\\\\My Drive\\\\Darby Work\\\\XRF fundamentals vs. MVA\\\\\""
   ]
  },
  {
   "cell_type": "code",
   "execution_count": 92,
   "id": "befd5b6f",
   "metadata": {},
   "outputs": [],
   "source": [
    "spectra_path = \"Z:\\\\data_pXRF\\\\MHC_Olympus_spectra.csv\"\n",
    "spectra = pd.read_csv(spectra_path)\n",
    "\n",
    "metadata_path = \"Z:\\\\data_pXRF\\\\MHC_Olympus_metadata.csv\"\n",
    "metadata = pd.read_csv(metadata_path)\n",
    "comps = metadata.drop(metadata.columns[1:8], axis=1)\n",
    "comps.columns = comps.columns.map(lambda x: x.split()[0])"
   ]
  },
  {
   "cell_type": "code",
   "execution_count": 3,
   "id": "001c0872",
   "metadata": {},
   "outputs": [],
   "source": [
    "# select samples with olympus predictions\n",
    "pred_samples = list(metadata[\n",
    "    metadata['Olympus-Predicted'] == 'yes'\n",
    "]['pkey'])\n",
    "\n",
    "# add wave column\n",
    "pred_samples.insert(0, 'wave')\n",
    "\n",
    "\n",
    "pred_spectra = spectra.filter(\n",
    "    items = pred_samples\n",
    ")"
   ]
  },
  {
   "cell_type": "code",
   "execution_count": 4,
   "id": "64c26e60",
   "metadata": {},
   "outputs": [],
   "source": [
    "o1_spectra = pred_spectra.filter(regex=('(_1$)|(wave)'), axis=1)\n",
    "o2_spectra = pred_spectra.filter(regex=('(_2$)|(wave)'), axis=1)"
   ]
  },
  {
   "cell_type": "markdown",
   "id": "de724041",
   "metadata": {},
   "source": [
    "## Sensitivity"
   ]
  },
  {
   "cell_type": "code",
   "execution_count": 5,
   "id": "48482b59",
   "metadata": {},
   "outputs": [],
   "source": [
    "noise_path = fp+\"Braga noise regions.csv\"\n",
    "noise = pd.read_csv(noise_path)"
   ]
  },
  {
   "cell_type": "code",
   "execution_count": 6,
   "id": "950cc979",
   "metadata": {},
   "outputs": [
    {
     "name": "stdout",
     "output_type": "stream",
     "text": [
      "Datasets cleaned:\n"
     ]
    },
    {
     "data": {
      "application/vnd.jupyter.widget-view+json": {
       "model_id": "2112707225b6474fb7aa947d560c38c5",
       "version_major": 2,
       "version_minor": 0
      },
      "text/plain": [
       "  0%|          | 0/2 [00:00<?, ?it/s]"
      ]
     },
     "metadata": {},
     "output_type": "display_data"
    },
    {
     "name": "stdout",
     "output_type": "stream",
     "text": [
      "Rows cleaned:\n"
     ]
    },
    {
     "data": {
      "application/vnd.jupyter.widget-view+json": {
       "model_id": "d45865c62dc34108aee70d38b826f5ed",
       "version_major": 2,
       "version_minor": 0
      },
      "text/plain": [
       "  0%|          | 0/2042 [00:00<?, ?it/s]"
      ]
     },
     "metadata": {},
     "output_type": "display_data"
    },
    {
     "name": "stderr",
     "output_type": "stream",
     "text": [
      "C:\\Users\\ytsma22c\\Anaconda3\\lib\\site-packages\\pandas\\core\\frame.py:4901: SettingWithCopyWarning: \n",
      "A value is trying to be set on a copy of a slice from a DataFrame\n",
      "\n",
      "See the caveats in the documentation: https://pandas.pydata.org/pandas-docs/stable/user_guide/indexing.html#returning-a-view-versus-a-copy\n",
      "  return super().drop(\n"
     ]
    },
    {
     "name": "stdout",
     "output_type": "stream",
     "text": [
      "Rows cleaned:\n"
     ]
    },
    {
     "data": {
      "application/vnd.jupyter.widget-view+json": {
       "model_id": "ab9642a4c760491a86809e1deb531433",
       "version_major": 2,
       "version_minor": 0
      },
      "text/plain": [
       "  0%|          | 0/2042 [00:00<?, ?it/s]"
      ]
     },
     "metadata": {},
     "output_type": "display_data"
    }
   ],
   "source": [
    "print(\"Datasets cleaned:\")\n",
    "count = 0\n",
    "for df in tqdm([o1_spectra, o2_spectra]):\n",
    "   \n",
    "    if count == 0:\n",
    "        noise_temp = noise[noise['Filter'] == 1].reset_index(drop=True)\n",
    "    else: noise_temp = noise[noise['Filter'] == 2].reset_index(drop=True)\n",
    "    count += 1\n",
    "        \n",
    "    print(\"Rows cleaned:\") \n",
    "    for row in tqdm(df.index):\n",
    "        nm = df['wave'][row]\n",
    "        # remove rows below first region\n",
    "        if nm < noise_temp['Start'][0]:\n",
    "            df.drop(row, axis = 'index', inplace=True)\n",
    "        # remove rows after last region\n",
    "        elif nm > noise_temp['Stop'][len(noise_temp)-1]:\n",
    "            df.drop(row, axis = 'index', inplace=True)\n",
    "        # remove rows between the regions\n",
    "        for region in range(len(noise_temp)-1):\n",
    "            if (nm > noise_temp['Stop'][region]) & (nm < noise_temp['Start'][region+1]):\n",
    "                df.drop(row, axis = 'index', inplace=True)"
   ]
  },
  {
   "cell_type": "code",
   "execution_count": 7,
   "id": "a2cb4841",
   "metadata": {},
   "outputs": [],
   "source": [
    "o1_sens = round(o1_spectra.set_index('wave').std(axis=1).mean(),3)\n",
    "o2_sens = round(o2_spectra.set_index('wave').std(axis=1).mean(),3)"
   ]
  },
  {
   "cell_type": "code",
   "execution_count": 8,
   "id": "6be0ad0a",
   "metadata": {},
   "outputs": [
    {
     "name": "stdout",
     "output_type": "stream",
     "text": [
      "Filter 1 sensitivity: 261.024 \n",
      "Filter 2 sensitivity: 159.383\n"
     ]
    }
   ],
   "source": [
    "print(\"Filter 1 sensitivity:\", o1_sens, \n",
    "      \"\\nFilter 2 sensitivity:\",o2_sens)"
   ]
  },
  {
   "cell_type": "markdown",
   "id": "56705635",
   "metadata": {},
   "source": [
    "### Function to calculate LBDQs from model and instrument sensitivity"
   ]
  },
  {
   "cell_type": "code",
   "execution_count": 112,
   "id": "e4430a04",
   "metadata": {},
   "outputs": [],
   "source": [
    "def get_lbdq(folder, file_list):\n",
    "     \n",
    "    print(\"LBDQ:\")\n",
    "    \n",
    "    coeffs = []\n",
    "    elem_list = []\n",
    "    filt_list = []\n",
    "    lob_list = []\n",
    "    lod_list = []\n",
    "    loq_list = []\n",
    "    \n",
    "    for filter_n in ['O1', 'O2']:\n",
    "        \n",
    "        # get sensitivity value\n",
    "        sensitivity = o1_sens if filter_n == 'O1' else o2_sens\n",
    "    \n",
    "        ftype = filter_n + \"_coeff\"\n",
    "\n",
    "        # read models\n",
    "        for file in tqdm(file_list):\n",
    "            if ftype in file:       \n",
    "                path = folder + file\n",
    "                data = pd.read_csv(path, skiprows = [0])\n",
    "\n",
    "                # convert to dataframe\n",
    "                data = data.T\n",
    "\n",
    "                # adapt to different element naming b/w datasets\n",
    "                data.columns = data.iloc[0].map(lambda x: x.split()[0])\n",
    "                data = data.drop(data.index[0])\n",
    "                element = data.columns[0]\n",
    "\n",
    "                # populate lists\n",
    "                elem_list.append(element)\n",
    "                filt_list.append(filter_n)\n",
    "\n",
    "                # calculate regression vectors\n",
    "                vector = pow(data, 2).sum().pow(.5)  #square root of sum of squares\n",
    "                \n",
    "                # calculate values\n",
    "                factors = {\n",
    "                    'LOB' : 1.645,\n",
    "                    'LOD' : 3.3,\n",
    "                    'LOQ' : 10\n",
    "                }\n",
    "\n",
    "                lob_list.append(factors['LOB'] * sensitivity * vector[0])\n",
    "                lod_list.append(factors['LOD'] * sensitivity * vector[0])\n",
    "                loq_list.append(factors['LOQ'] * sensitivity * vector[0])\n",
    "\n",
    "    # make dataframe\n",
    "    df = pd.DataFrame({\n",
    "        'element' : elem_list,\n",
    "        'filter' : filt_list,\n",
    "        'LOB' : lob_list,\n",
    "        'LOD' : lod_list,\n",
    "        'LOQ' : loq_list\n",
    "    })\n",
    "    \n",
    "    # change col formats\n",
    "    cols = df.columns.drop(['element', 'filter'])\n",
    "    df[cols] = df[cols].apply(pd.to_numeric)\n",
    "    \n",
    "    return df"
   ]
  },
  {
   "cell_type": "markdown",
   "id": "aa5b966f",
   "metadata": {},
   "source": [
    "### Function to calculate RMSEPs"
   ]
  },
  {
   "cell_type": "code",
   "execution_count": 121,
   "id": "57b80c16",
   "metadata": {},
   "outputs": [],
   "source": [
    "majors = ['Al2O3', 'CaO', 'Fe2O3', 'MgO', 'MnO', 'P2O5', 'SiO2', 'TiO2']\n",
    "\n",
    "def get_rmsep(folder, file_list, lbdq):\n",
    "    \n",
    "    print(\"RMSEP:\")\n",
    "    \n",
    "    elem_list = []\n",
    "    filt_list = []\n",
    "    avg_list = []\n",
    "    rmsep_list = []\n",
    "    r2_list = []\n",
    "    \n",
    "    for filter_n in ['O1', 'O2']:\n",
    "    \n",
    "        ftype = filter_n + \"_test\"\n",
    "\n",
    "        for file in tqdm(file_list):\n",
    "            if ftype in file:       \n",
    "                path = (folder + file)\n",
    "                data = pd.read_csv(path)\n",
    "\n",
    "                # get element\n",
    "                element = data.columns[1].split()[0]\n",
    "                elem_list.append(element)\n",
    "                filt_list.append(filter_n)\n",
    "\n",
    "                # format columns\n",
    "                data.columns = ['pkey', 'Actual', 'Pred']\n",
    "                data = data.drop([0])\n",
    "                data.Pred = data.Pred.astype(float)  \n",
    "\n",
    "                # remove predictions above 100 for majors\n",
    "                if element in majors:\n",
    "                    data = data[data.Pred < 100]\n",
    "\n",
    "                # remove all predictions below 0\n",
    "                data = data[data.Pred > 0].reset_index(drop=True).sort_index(axis=1)\n",
    "\n",
    "                # order columns\n",
    "                data = data[['pkey', 'Actual', 'Pred']].drop_duplicates(subset = 'pkey').sort_values(by='pkey').reset_index(drop=True)\n",
    "\n",
    "                # subselect relevant reference values\n",
    "                ref = lbdq[(lbdq['element'].astype(str) == element) &\n",
    "                           (lbdq['filter'].astype(str) == filter_n)].reset_index(drop=True)\n",
    "\n",
    "                # add in Actual concentrations\n",
    "                temp_comps = comps[comps.pkey.isin(data.pkey)].reset_index(drop=True)                   \n",
    "                data['Actual'] = temp_comps[temp_comps['pkey'] == data['pkey']][element]\n",
    "\n",
    "                # remove NaN Actual values....which idk why they'd be there\n",
    "                data = data.dropna()\n",
    "\n",
    "                # calculate values\n",
    "                loq = ref['LOQ'].iloc[0]\n",
    "                # select just predictions above the LOQ\n",
    "                data = data[data.Pred > loq].reset_index(drop=True)\n",
    "                # get average concentration\n",
    "                avg = data['Actual'].mean()\n",
    "                avg_list.append(avg)\n",
    "                # get R2\n",
    "                r2 = r2_score(data.Actual, data.Pred)\n",
    "                r2_list.append(r2)\n",
    "                # get RMSE-P\n",
    "                data['sqerror'] = (data.Actual - data.Pred).pow(2)\n",
    "                rmsep = data['sqerror'].mean() ** 0.5\n",
    "                rmsep_list.append(rmsep)\n",
    "\n",
    "    \n",
    "    df = pd.DataFrame({\n",
    "        \"element\" : elem_list,\n",
    "        \"filter\" : filt_list,\n",
    "        \"Avg\" : avg_list,\n",
    "        \"RMSEP\" : rmsep_list,\n",
    "        \"R2\" : r2_list,\n",
    "    })\n",
    "    \n",
    "    \n",
    "    return df"
   ]
  },
  {
   "cell_type": "code",
   "execution_count": 122,
   "id": "2f1bb8ee",
   "metadata": {},
   "outputs": [],
   "source": [
    "def get_results(regression, n_range):\n",
    "    \n",
    "    print('Calculating for', regression, n_range)\n",
    "\n",
    "    folder = fp+\"\\\\models\\\\\"+regression+\"\\\\\"+n_range+\"\\\\\"\n",
    "    file_list = os.listdir(folder)\n",
    "\n",
    "    # calculate lbdq\n",
    "    lbdq = get_lbdq(folder, file_list)\n",
    "    # calculate rmsep with lbdq results\n",
    "    rmsep = get_rmsep(folder, file_list, lbdq)\n",
    "    # merge results\n",
    "    df = pd.merge(lbdq, rmsep, how='outer', on=['element', 'filter'])\n",
    "    df.insert(loc=2, column='num_range', value=n_range)\n",
    "    df.insert(loc=2, column='regression', value=regression)\n",
    "    # return full results\n",
    "    return df "
   ]
  },
  {
   "cell_type": "code",
   "execution_count": 123,
   "id": "0c028f4d",
   "metadata": {},
   "outputs": [
    {
     "name": "stdout",
     "output_type": "stream",
     "text": [
      "Calculating for lasso 0-750\n",
      "LBDQ:\n"
     ]
    },
    {
     "data": {
      "application/vnd.jupyter.widget-view+json": {
       "model_id": "fabe539362e34b24a7944512898ad138",
       "version_major": 2,
       "version_minor": 0
      },
      "text/plain": [
       "  0%|          | 0/19 [00:00<?, ?it/s]"
      ]
     },
     "metadata": {},
     "output_type": "display_data"
    },
    {
     "data": {
      "application/vnd.jupyter.widget-view+json": {
       "model_id": "2950731c69274e438565a2e37dfbdb63",
       "version_major": 2,
       "version_minor": 0
      },
      "text/plain": [
       "  0%|          | 0/19 [00:00<?, ?it/s]"
      ]
     },
     "metadata": {},
     "output_type": "display_data"
    },
    {
     "name": "stdout",
     "output_type": "stream",
     "text": [
      "RMSEP:\n"
     ]
    },
    {
     "data": {
      "application/vnd.jupyter.widget-view+json": {
       "model_id": "c9e8e2e01c2a4c2a8f6e16d20a848c16",
       "version_major": 2,
       "version_minor": 0
      },
      "text/plain": [
       "  0%|          | 0/19 [00:00<?, ?it/s]"
      ]
     },
     "metadata": {},
     "output_type": "display_data"
    },
    {
     "data": {
      "application/vnd.jupyter.widget-view+json": {
       "model_id": "3854637b033f4750ba22eda011b4cfb9",
       "version_major": 2,
       "version_minor": 0
      },
      "text/plain": [
       "  0%|          | 0/19 [00:00<?, ?it/s]"
      ]
     },
     "metadata": {},
     "output_type": "display_data"
    },
    {
     "data": {
      "text/html": [
       "<div>\n",
       "<style scoped>\n",
       "    .dataframe tbody tr th:only-of-type {\n",
       "        vertical-align: middle;\n",
       "    }\n",
       "\n",
       "    .dataframe tbody tr th {\n",
       "        vertical-align: top;\n",
       "    }\n",
       "\n",
       "    .dataframe thead th {\n",
       "        text-align: right;\n",
       "    }\n",
       "</style>\n",
       "<table border=\"1\" class=\"dataframe\">\n",
       "  <thead>\n",
       "    <tr style=\"text-align: right;\">\n",
       "      <th></th>\n",
       "      <th>element</th>\n",
       "      <th>filter</th>\n",
       "      <th>regression</th>\n",
       "      <th>num_range</th>\n",
       "      <th>LOB</th>\n",
       "      <th>LOD</th>\n",
       "      <th>LOQ</th>\n",
       "      <th>Avg</th>\n",
       "      <th>RMSEP</th>\n",
       "      <th>R2</th>\n",
       "    </tr>\n",
       "  </thead>\n",
       "  <tbody>\n",
       "    <tr>\n",
       "      <th>0</th>\n",
       "      <td>Al2O3</td>\n",
       "      <td>O1</td>\n",
       "      <td>lasso</td>\n",
       "      <td>0-750</td>\n",
       "      <td>1.920544</td>\n",
       "      <td>3.852762</td>\n",
       "      <td>11.675038</td>\n",
       "      <td>14.284519</td>\n",
       "      <td>3.304214</td>\n",
       "      <td>-0.211958</td>\n",
       "    </tr>\n",
       "    <tr>\n",
       "      <th>1</th>\n",
       "      <td>CaO</td>\n",
       "      <td>O1</td>\n",
       "      <td>lasso</td>\n",
       "      <td>0-750</td>\n",
       "      <td>2.966556</td>\n",
       "      <td>5.951145</td>\n",
       "      <td>18.033773</td>\n",
       "      <td>31.630000</td>\n",
       "      <td>13.528613</td>\n",
       "      <td>0.249996</td>\n",
       "    </tr>\n",
       "    <tr>\n",
       "      <th>2</th>\n",
       "      <td>Fe2O3</td>\n",
       "      <td>O1</td>\n",
       "      <td>lasso</td>\n",
       "      <td>0-750</td>\n",
       "      <td>2.308474</td>\n",
       "      <td>4.630982</td>\n",
       "      <td>14.033278</td>\n",
       "      <td>NaN</td>\n",
       "      <td>NaN</td>\n",
       "      <td>NaN</td>\n",
       "    </tr>\n",
       "    <tr>\n",
       "      <th>3</th>\n",
       "      <td>Al2O3</td>\n",
       "      <td>O2</td>\n",
       "      <td>lasso</td>\n",
       "      <td>0-750</td>\n",
       "      <td>0.619296</td>\n",
       "      <td>1.242356</td>\n",
       "      <td>3.764715</td>\n",
       "      <td>13.907448</td>\n",
       "      <td>1.424941</td>\n",
       "      <td>0.815621</td>\n",
       "    </tr>\n",
       "    <tr>\n",
       "      <th>4</th>\n",
       "      <td>CaO</td>\n",
       "      <td>O2</td>\n",
       "      <td>lasso</td>\n",
       "      <td>0-750</td>\n",
       "      <td>0.156545</td>\n",
       "      <td>0.314041</td>\n",
       "      <td>0.951639</td>\n",
       "      <td>7.679554</td>\n",
       "      <td>2.103881</td>\n",
       "      <td>0.868282</td>\n",
       "    </tr>\n",
       "  </tbody>\n",
       "</table>\n",
       "</div>"
      ],
      "text/plain": [
       "  element filter regression num_range       LOB       LOD        LOQ  \\\n",
       "0   Al2O3     O1      lasso     0-750  1.920544  3.852762  11.675038   \n",
       "1     CaO     O1      lasso     0-750  2.966556  5.951145  18.033773   \n",
       "2   Fe2O3     O1      lasso     0-750  2.308474  4.630982  14.033278   \n",
       "3   Al2O3     O2      lasso     0-750  0.619296  1.242356   3.764715   \n",
       "4     CaO     O2      lasso     0-750  0.156545  0.314041   0.951639   \n",
       "\n",
       "         Avg      RMSEP        R2  \n",
       "0  14.284519   3.304214 -0.211958  \n",
       "1  31.630000  13.528613  0.249996  \n",
       "2        NaN        NaN       NaN  \n",
       "3  13.907448   1.424941  0.815621  \n",
       "4   7.679554   2.103881  0.868282  "
      ]
     },
     "execution_count": 123,
     "metadata": {},
     "output_type": "execute_result"
    }
   ],
   "source": [
    "get_results('lasso', '0-750')"
   ]
  }
 ],
 "metadata": {
  "kernelspec": {
   "display_name": "Python 3 (ipykernel)",
   "language": "python",
   "name": "python3"
  },
  "language_info": {
   "codemirror_mode": {
    "name": "ipython",
    "version": 3
   },
   "file_extension": ".py",
   "mimetype": "text/x-python",
   "name": "python",
   "nbconvert_exporter": "python",
   "pygments_lexer": "ipython3",
   "version": "3.8.8"
  }
 },
 "nbformat": 4,
 "nbformat_minor": 5
}
