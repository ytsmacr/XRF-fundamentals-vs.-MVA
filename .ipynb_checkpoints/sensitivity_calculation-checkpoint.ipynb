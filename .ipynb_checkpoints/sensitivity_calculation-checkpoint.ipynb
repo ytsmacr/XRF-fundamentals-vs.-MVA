{
 "cells": [
  {
   "cell_type": "code",
   "execution_count": 1,
   "id": "898c0b57",
   "metadata": {},
   "outputs": [],
   "source": [
    "import pandas as pd\n",
    "from tqdm import tqdm\n",
    "import matplotlib as mpl\n",
    "from matplotlib import pyplot as plt\n",
    "from statistics import median\n",
    "import os\n",
    "\n",
    "fp = \"G:\\\\My Drive\\\\Darby Work\\\\XRF fundamentals vs. MVA\\\\\""
   ]
  },
  {
   "cell_type": "code",
   "execution_count": 2,
   "id": "3f00b991",
   "metadata": {},
   "outputs": [],
   "source": [
    "def calc_sens(filt):\n",
    "    \n",
    "    df = pd.read_csv(fp+'misc\\\\duplicate_spectra_list.csv')\n",
    "    folder = \"Z:\\\\data_pXRF\\\\olympus_17_csv\\\\\"\n",
    "    \n",
    "    print(\"Calculations for filter\", str(filt))\n",
    "    \n",
    "    sens_list = []\n",
    "    err_list = []\n",
    "    \n",
    "    # filter by filter type\n",
    "    temp_df = df[df['filter']==filt]\n",
    "    \n",
    "    # get list of samples\n",
    "    samples = temp_df['sample'].unique()\n",
    "    \n",
    "    # for each sample:\n",
    "    for sample in tqdm(samples):\n",
    "        \n",
    "        temp = temp_df[temp_df['sample']==sample]\n",
    "        \n",
    "        # get spectra names\n",
    "        spectra = temp.spectrum.unique()\n",
    "        if len(spectra) > 2:\n",
    "            err_list.append(sample)\n",
    "            continue\n",
    "\n",
    "        # first spectrum\n",
    "        spec1 = str(spectra[0])\n",
    "        temp1 = pd.read_csv(folder+spec1+'.csv', skiprows=20)\n",
    "        temp1 = temp1.set_index('Channel #')\n",
    "        temp1 = temp1.iloc[1:2048, :] # remove first and last rows b/c where stuff gets weird\n",
    "        temp1['Intensity'] = temp1['Intensity'].astype(int)\n",
    "        \n",
    "        # second spectrum\n",
    "        spec2 = str(spectra[1])\n",
    "        temp2 = pd.read_csv(folder+spec2+'.csv', skiprows=20)\n",
    "        temp2 = temp2.set_index('Channel #')\n",
    "        temp2 = temp2.iloc[1:2048, :]\n",
    "        temp2['Intensity'] = temp2['Intensity'].astype(int)\n",
    "        \n",
    "        # merge and calculate sensitivity\n",
    "        temp = pd.merge(temp1, temp2, left_index=True, right_index=True)\n",
    "        temp = temp.T\n",
    "        sens = temp.astype('float').std(axis=0).mean()\n",
    "        sens_list.append(sens)\n",
    "        \n",
    "    print(err_list, \"had more than 2 duplicates and were excluded\")\n",
    "    median_sens = round(median(sens_list),9)\n",
    "    print(\"Median sensitivity:\", round(median_sens,1))\n",
    "    mean_sens = sum(sens_list) / len(sens_list)\n",
    "    print(\"Mean sensitivity:\", round(mean_sens,1))\n",
    "    \n",
    "    # compare median to mean\n",
    "    med_c = 'red'\n",
    "    mean_c = 'blue'\n",
    "\n",
    "    plt.hist(sens_list, bins=20)\n",
    "    plt.ylabel(\"# Standards\")\n",
    "    plt.xlabel(\"Sensitivity\")\n",
    "    y_bot, y_top = plt.ylim()\n",
    "    plt.vlines(x=median_sens,\n",
    "               ymin = 0,\n",
    "               ymax = y_top,\n",
    "               colors=med_c,\n",
    "               label='median')\n",
    "    plt.vlines(x=mean_sens,\n",
    "               ymin = 0,\n",
    "               ymax = y_top,\n",
    "               colors=mean_c,\n",
    "               label='mean')\n",
    "    plt.title(\"Filter \"+str(filt))\n",
    "    plt.legend()\n",
    "    plt.ylim((0,y_top))\n",
    "    plt.show()\n",
    "    \n",
    "    return median_sens, mean_sens"
   ]
  },
  {
   "cell_type": "code",
   "execution_count": 3,
   "id": "6b4fc21b",
   "metadata": {},
   "outputs": [
    {
     "name": "stdout",
     "output_type": "stream",
     "text": [
      "Calculations for filter 1\n"
     ]
    },
    {
     "name": "stderr",
     "output_type": "stream",
     "text": [
      "100%|████████████████████████████████████████████████████████████████████████████████| 190/190 [03:00<00:00,  1.05it/s]\n"
     ]
    },
    {
     "name": "stdout",
     "output_type": "stream",
     "text": [
      "['1984AA', 'C11MA159'] had more than 2 duplicates and were excluded\n",
      "Median sensitivity: 49.8\n",
      "Mean sensitivity: 74.6\n"
     ]
    },
    {
     "data": {
      "image/png": "[encoded data removed]",
      "text/plain": [
       "<Figure size 432x288 with 1 Axes>"
      ]
     },
     "metadata": {
      "needs_background": "light"
     },
     "output_type": "display_data"
    }
   ],
   "source": [
    "median_1, mean_1 = calc_sens(1)"
   ]
  },
  {
   "cell_type": "code",
   "execution_count": 4,
   "id": "bf43e1a0",
   "metadata": {},
   "outputs": [
    {
     "name": "stdout",
     "output_type": "stream",
     "text": [
      "Calculations for filter 2\n"
     ]
    },
    {
     "name": "stderr",
     "output_type": "stream",
     "text": [
      "100%|████████████████████████████████████████████████████████████████████████████████| 192/192 [03:08<00:00,  1.02it/s]"
     ]
    },
    {
     "name": "stdout",
     "output_type": "stream",
     "text": [
      "['1984AA', 'C11MA159'] had more than 2 duplicates and were excluded\n",
      "Median sensitivity: 148.9\n",
      "Mean sensitivity: 281.1\n"
     ]
    },
    {
     "name": "stderr",
     "output_type": "stream",
     "text": [
      "\n"
     ]
    },
    {
     "data": {
      "image/png": "[encoded data removed]",
      "text/plain": [
       "<Figure size 432x288 with 1 Axes>"
      ]
     },
     "metadata": {
      "needs_background": "light"
     },
     "output_type": "display_data"
    }
   ],
   "source": [
    "median_2, mean_2 = calc_sens(2)"
   ]
  },
  {
   "cell_type": "code",
   "execution_count": 6,
   "id": "47f5365e",
   "metadata": {},
   "outputs": [],
   "source": [
    "results = pd.DataFrame({\n",
    "    'filter' : [1,2],\n",
    "    'median_sens' : [median_1, median_2],\n",
    "    'mean_sens' : [mean_1, mean_2]\n",
    "})\n",
    "\n",
    "results.to_csv(fp+'sensitivities.csv', index=False)"
   ]
  }
 ],
 "metadata": {
  "kernelspec": {
   "display_name": "Python 3 (ipykernel)",
   "language": "python",
   "name": "python3"
  },
  "language_info": {
   "codemirror_mode": {
    "name": "ipython",
    "version": 3
   },
   "file_extension": ".py",
   "mimetype": "text/x-python",
   "name": "python",
   "nbconvert_exporter": "python",
   "pygments_lexer": "ipython3",
   "version": "3.8.8"
  }
 },
 "nbformat": 4,
 "nbformat_minor": 5
}
