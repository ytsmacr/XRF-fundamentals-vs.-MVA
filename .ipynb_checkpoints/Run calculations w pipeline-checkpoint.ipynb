{
 "cells": [
  {
   "cell_type": "code",
   "execution_count": 1,
   "id": "c9e78671",
   "metadata": {},
   "outputs": [],
   "source": [
    "import pandas as pd\n",
    "from XRF_calc_tools import *\n",
    "\n",
    "# get version(s)\n",
    "#print(\"pandas version\",pd.__version__)"
   ]
  },
  {
   "cell_type": "markdown",
   "id": "fc548375",
   "metadata": {},
   "source": [
    "#### 1. Read in data and references"
   ]
  },
  {
   "cell_type": "code",
   "execution_count": 2,
   "id": "befd5b6f",
   "metadata": {},
   "outputs": [],
   "source": [
    "# get spectra\n",
    "spectra_path = \"Z:\\\\data_pXRF\\\\MHC_Olympus_spectra.csv\"\n",
    "spectra = pd.read_csv(spectra_path)\n",
    "\n",
    "### select samples with olympus predictions\n",
    "pred_samples = list(metadata[\n",
    "    metadata['Olympus-Predicted'] == 'yes'\n",
    "]['pkey'])\n",
    "\n",
    "### add wave column\n",
    "pred_samples.insert(0, 'wave')\n",
    "pred_spectra = spectra.filter(\n",
    "    items = pred_samples\n",
    ")\n",
    "\n",
    "o1_spectra = pred_spectra.filter(regex=('(_1$)|(wave)'), axis=1)\n",
    "o2_spectra = pred_spectra.filter(regex=('(_2$)|(wave)'), axis=1)\n",
    "\n",
    "# get compositions\n",
    "metadata_path = \"Z:\\\\data_pXRF\\\\MHC_Olympus_metadata.csv\"\n",
    "metadata = pd.read_csv(metadata_path)\n",
    "comps = metadata.drop(metadata.columns[1:8], axis=1)\n",
    "comps.columns = comps.columns.map(lambda x: x.split()[0])\n",
    "\n",
    "# outlier limits\n",
    "limits_path = \"Z:\\\\Millennium Set\\\\near_zero&outliers_summary_091021.xlsx\"\n",
    "limits = pd.read_excel(limits_path)\n",
    "limits = pd.Series(limits['Outlier limit'].values, index=limits['Element']).to_dict()\n",
    "\n",
    "num_ranges = ['all', '0-750', '250-1000']\n",
    "filters = ['O1', 'O2']"
   ]
  },
  {
   "cell_type": "markdown",
   "id": "dbd9ae0b",
   "metadata": {},
   "source": [
    "#### 2. Calculate instrument sensitivities"
   ]
  },
  {
   "cell_type": "code",
   "execution_count": null,
   "id": "6362427d",
   "metadata": {},
   "outputs": [],
   "source": [
    "o1_sens = calculate_sensitivity(filter=1)\n",
    "o2_sens = calculate_sensitivity(filter=2)"
   ]
  },
  {
   "cell_type": "code",
   "execution_count": 8,
   "id": "0b05a818",
   "metadata": {},
   "outputs": [
    {
     "data": {
      "text/html": [
       "<div>\n",
       "<style scoped>\n",
       "    .dataframe tbody tr th:only-of-type {\n",
       "        vertical-align: middle;\n",
       "    }\n",
       "\n",
       "    .dataframe tbody tr th {\n",
       "        vertical-align: top;\n",
       "    }\n",
       "\n",
       "    .dataframe thead th {\n",
       "        text-align: right;\n",
       "    }\n",
       "</style>\n",
       "<table border=\"1\" class=\"dataframe\">\n",
       "  <thead>\n",
       "    <tr style=\"text-align: right;\">\n",
       "      <th></th>\n",
       "      <th>pkey</th>\n",
       "      <th>Sample</th>\n",
       "      <th>TAS Rock Type</th>\n",
       "      <th>Random Number</th>\n",
       "      <th>Olympus-Predicted</th>\n",
       "      <th>Filter</th>\n",
       "      <th>Dopant</th>\n",
       "      <th>Matrix</th>\n",
       "      <th>Al2O3 (wt%)</th>\n",
       "      <th>As (ppm)</th>\n",
       "      <th>...</th>\n",
       "      <th>Sr (ppm)</th>\n",
       "      <th>Ta (ppm)</th>\n",
       "      <th>Th (ppm)</th>\n",
       "      <th>TiO2 (wt%)</th>\n",
       "      <th>U (ppm)</th>\n",
       "      <th>V (ppm)</th>\n",
       "      <th>W (ppm)</th>\n",
       "      <th>Y (ppm)</th>\n",
       "      <th>Zn (ppm)</th>\n",
       "      <th>Zr (ppm)</th>\n",
       "    </tr>\n",
       "  </thead>\n",
       "  <tbody>\n",
       "    <tr>\n",
       "      <th>0</th>\n",
       "      <td>0211H_1</td>\n",
       "      <td>0211H</td>\n",
       "      <td>tephrite/basanite</td>\n",
       "      <td>929</td>\n",
       "      <td>no</td>\n",
       "      <td>O1</td>\n",
       "      <td>na</td>\n",
       "      <td>na</td>\n",
       "      <td>15.98</td>\n",
       "      <td>NaN</td>\n",
       "      <td>...</td>\n",
       "      <td>522.000000</td>\n",
       "      <td>0.94</td>\n",
       "      <td>3.6</td>\n",
       "      <td>1.860</td>\n",
       "      <td>0.63</td>\n",
       "      <td>58.0</td>\n",
       "      <td>NaN</td>\n",
       "      <td>42.000000</td>\n",
       "      <td>136.0</td>\n",
       "      <td>237.000000</td>\n",
       "    </tr>\n",
       "    <tr>\n",
       "      <th>1</th>\n",
       "      <td>0211H_2</td>\n",
       "      <td>0211H</td>\n",
       "      <td>tephrite/basanite</td>\n",
       "      <td>929</td>\n",
       "      <td>no</td>\n",
       "      <td>O2</td>\n",
       "      <td>na</td>\n",
       "      <td>na</td>\n",
       "      <td>15.98</td>\n",
       "      <td>NaN</td>\n",
       "      <td>...</td>\n",
       "      <td>522.000000</td>\n",
       "      <td>0.94</td>\n",
       "      <td>3.6</td>\n",
       "      <td>1.860</td>\n",
       "      <td>0.63</td>\n",
       "      <td>58.0</td>\n",
       "      <td>NaN</td>\n",
       "      <td>42.000000</td>\n",
       "      <td>136.0</td>\n",
       "      <td>237.000000</td>\n",
       "    </tr>\n",
       "    <tr>\n",
       "      <th>2</th>\n",
       "      <td>0212H_1</td>\n",
       "      <td>0212H</td>\n",
       "      <td>tephrite/basanite</td>\n",
       "      <td>374</td>\n",
       "      <td>no</td>\n",
       "      <td>O1</td>\n",
       "      <td>na</td>\n",
       "      <td>na</td>\n",
       "      <td>17.51</td>\n",
       "      <td>NaN</td>\n",
       "      <td>...</td>\n",
       "      <td>1038.775510</td>\n",
       "      <td>NaN</td>\n",
       "      <td>NaN</td>\n",
       "      <td>2.940</td>\n",
       "      <td>NaN</td>\n",
       "      <td>18.0</td>\n",
       "      <td>NaN</td>\n",
       "      <td>40.581633</td>\n",
       "      <td>106.0</td>\n",
       "      <td>199.600000</td>\n",
       "    </tr>\n",
       "    <tr>\n",
       "      <th>3</th>\n",
       "      <td>0212H_2</td>\n",
       "      <td>0212H</td>\n",
       "      <td>tephrite/basanite</td>\n",
       "      <td>374</td>\n",
       "      <td>no</td>\n",
       "      <td>O2</td>\n",
       "      <td>na</td>\n",
       "      <td>na</td>\n",
       "      <td>17.51</td>\n",
       "      <td>NaN</td>\n",
       "      <td>...</td>\n",
       "      <td>1038.775510</td>\n",
       "      <td>NaN</td>\n",
       "      <td>NaN</td>\n",
       "      <td>2.940</td>\n",
       "      <td>NaN</td>\n",
       "      <td>18.0</td>\n",
       "      <td>NaN</td>\n",
       "      <td>40.581633</td>\n",
       "      <td>106.0</td>\n",
       "      <td>199.600000</td>\n",
       "    </tr>\n",
       "    <tr>\n",
       "      <th>4</th>\n",
       "      <td>0213H_1</td>\n",
       "      <td>0213H</td>\n",
       "      <td>trachyte/trachydacite</td>\n",
       "      <td>404</td>\n",
       "      <td>no</td>\n",
       "      <td>O1</td>\n",
       "      <td>na</td>\n",
       "      <td>na</td>\n",
       "      <td>17.89</td>\n",
       "      <td>NaN</td>\n",
       "      <td>...</td>\n",
       "      <td>310.110661</td>\n",
       "      <td>0.09</td>\n",
       "      <td>3.0</td>\n",
       "      <td>0.110</td>\n",
       "      <td>0.44</td>\n",
       "      <td>3.0</td>\n",
       "      <td>NaN</td>\n",
       "      <td>10.598903</td>\n",
       "      <td>28.0</td>\n",
       "      <td>43.414621</td>\n",
       "    </tr>\n",
       "    <tr>\n",
       "      <th>...</th>\n",
       "      <td>...</td>\n",
       "      <td>...</td>\n",
       "      <td>...</td>\n",
       "      <td>...</td>\n",
       "      <td>...</td>\n",
       "      <td>...</td>\n",
       "      <td>...</td>\n",
       "      <td>...</td>\n",
       "      <td>...</td>\n",
       "      <td>...</td>\n",
       "      <td>...</td>\n",
       "      <td>...</td>\n",
       "      <td>...</td>\n",
       "      <td>...</td>\n",
       "      <td>...</td>\n",
       "      <td>...</td>\n",
       "      <td>...</td>\n",
       "      <td>...</td>\n",
       "      <td>...</td>\n",
       "      <td>...</td>\n",
       "      <td>...</td>\n",
       "    </tr>\n",
       "    <tr>\n",
       "      <th>5529</th>\n",
       "      <td>WMG_2</td>\n",
       "      <td>WMG</td>\n",
       "      <td>picrobasalt</td>\n",
       "      <td>112</td>\n",
       "      <td>yes</td>\n",
       "      <td>O2</td>\n",
       "      <td>na</td>\n",
       "      <td>na</td>\n",
       "      <td>12.04</td>\n",
       "      <td>NaN</td>\n",
       "      <td>...</td>\n",
       "      <td>400.000000</td>\n",
       "      <td>NaN</td>\n",
       "      <td>1.0</td>\n",
       "      <td>6.220</td>\n",
       "      <td>1.00</td>\n",
       "      <td>246.0</td>\n",
       "      <td>NaN</td>\n",
       "      <td>62.000000</td>\n",
       "      <td>272.0</td>\n",
       "      <td>157.000000</td>\n",
       "    </tr>\n",
       "    <tr>\n",
       "      <th>5530</th>\n",
       "      <td>WSE_1</td>\n",
       "      <td>WSE</td>\n",
       "      <td>basalt</td>\n",
       "      <td>674</td>\n",
       "      <td>no</td>\n",
       "      <td>O1</td>\n",
       "      <td>na</td>\n",
       "      <td>na</td>\n",
       "      <td>13.78</td>\n",
       "      <td>1.0</td>\n",
       "      <td>...</td>\n",
       "      <td>410.000000</td>\n",
       "      <td>1.16</td>\n",
       "      <td>3.0</td>\n",
       "      <td>2.400</td>\n",
       "      <td>0.65</td>\n",
       "      <td>340.0</td>\n",
       "      <td>0.2</td>\n",
       "      <td>30.400000</td>\n",
       "      <td>117.0</td>\n",
       "      <td>195.000000</td>\n",
       "    </tr>\n",
       "    <tr>\n",
       "      <th>5531</th>\n",
       "      <td>WSE_2</td>\n",
       "      <td>WSE</td>\n",
       "      <td>basalt</td>\n",
       "      <td>674</td>\n",
       "      <td>no</td>\n",
       "      <td>O2</td>\n",
       "      <td>na</td>\n",
       "      <td>na</td>\n",
       "      <td>13.78</td>\n",
       "      <td>1.0</td>\n",
       "      <td>...</td>\n",
       "      <td>410.000000</td>\n",
       "      <td>1.16</td>\n",
       "      <td>3.0</td>\n",
       "      <td>2.400</td>\n",
       "      <td>0.65</td>\n",
       "      <td>340.0</td>\n",
       "      <td>0.2</td>\n",
       "      <td>30.400000</td>\n",
       "      <td>117.0</td>\n",
       "      <td>195.000000</td>\n",
       "    </tr>\n",
       "    <tr>\n",
       "      <th>5532</th>\n",
       "      <td>X208_1</td>\n",
       "      <td>X208</td>\n",
       "      <td>foidite</td>\n",
       "      <td>436</td>\n",
       "      <td>yes</td>\n",
       "      <td>O1</td>\n",
       "      <td>na</td>\n",
       "      <td>na</td>\n",
       "      <td>11.65</td>\n",
       "      <td>NaN</td>\n",
       "      <td>...</td>\n",
       "      <td>1069.000000</td>\n",
       "      <td>NaN</td>\n",
       "      <td>7.0</td>\n",
       "      <td>1.914</td>\n",
       "      <td>0.00</td>\n",
       "      <td>268.0</td>\n",
       "      <td>NaN</td>\n",
       "      <td>25.200000</td>\n",
       "      <td>129.0</td>\n",
       "      <td>129.000000</td>\n",
       "    </tr>\n",
       "    <tr>\n",
       "      <th>5533</th>\n",
       "      <td>X208_2</td>\n",
       "      <td>X208</td>\n",
       "      <td>foidite</td>\n",
       "      <td>436</td>\n",
       "      <td>yes</td>\n",
       "      <td>O2</td>\n",
       "      <td>na</td>\n",
       "      <td>na</td>\n",
       "      <td>11.65</td>\n",
       "      <td>NaN</td>\n",
       "      <td>...</td>\n",
       "      <td>1069.000000</td>\n",
       "      <td>NaN</td>\n",
       "      <td>7.0</td>\n",
       "      <td>1.914</td>\n",
       "      <td>0.00</td>\n",
       "      <td>268.0</td>\n",
       "      <td>NaN</td>\n",
       "      <td>25.200000</td>\n",
       "      <td>129.0</td>\n",
       "      <td>129.000000</td>\n",
       "    </tr>\n",
       "  </tbody>\n",
       "</table>\n",
       "<p>5534 rows × 53 columns</p>\n",
       "</div>"
      ],
      "text/plain": [
       "         pkey Sample          TAS Rock Type  Random Number Olympus-Predicted  \\\n",
       "0     0211H_1  0211H      tephrite/basanite            929                no   \n",
       "1     0211H_2  0211H      tephrite/basanite            929                no   \n",
       "2     0212H_1  0212H      tephrite/basanite            374                no   \n",
       "3     0212H_2  0212H      tephrite/basanite            374                no   \n",
       "4     0213H_1  0213H  trachyte/trachydacite            404                no   \n",
       "...       ...    ...                    ...            ...               ...   \n",
       "5529    WMG_2    WMG            picrobasalt            112               yes   \n",
       "5530    WSE_1    WSE                 basalt            674                no   \n",
       "5531    WSE_2    WSE                 basalt            674                no   \n",
       "5532   X208_1   X208                foidite            436               yes   \n",
       "5533   X208_2   X208                foidite            436               yes   \n",
       "\n",
       "     Filter Dopant Matrix  Al2O3 (wt%)  As (ppm)  ...     Sr (ppm)  Ta (ppm)  \\\n",
       "0        O1     na     na        15.98       NaN  ...   522.000000      0.94   \n",
       "1        O2     na     na        15.98       NaN  ...   522.000000      0.94   \n",
       "2        O1     na     na        17.51       NaN  ...  1038.775510       NaN   \n",
       "3        O2     na     na        17.51       NaN  ...  1038.775510       NaN   \n",
       "4        O1     na     na        17.89       NaN  ...   310.110661      0.09   \n",
       "...     ...    ...    ...          ...       ...  ...          ...       ...   \n",
       "5529     O2     na     na        12.04       NaN  ...   400.000000       NaN   \n",
       "5530     O1     na     na        13.78       1.0  ...   410.000000      1.16   \n",
       "5531     O2     na     na        13.78       1.0  ...   410.000000      1.16   \n",
       "5532     O1     na     na        11.65       NaN  ...  1069.000000       NaN   \n",
       "5533     O2     na     na        11.65       NaN  ...  1069.000000       NaN   \n",
       "\n",
       "      Th (ppm)  TiO2 (wt%)  U (ppm)  V (ppm)  W (ppm)    Y (ppm)  Zn (ppm)  \\\n",
       "0          3.6       1.860     0.63     58.0      NaN  42.000000     136.0   \n",
       "1          3.6       1.860     0.63     58.0      NaN  42.000000     136.0   \n",
       "2          NaN       2.940      NaN     18.0      NaN  40.581633     106.0   \n",
       "3          NaN       2.940      NaN     18.0      NaN  40.581633     106.0   \n",
       "4          3.0       0.110     0.44      3.0      NaN  10.598903      28.0   \n",
       "...        ...         ...      ...      ...      ...        ...       ...   \n",
       "5529       1.0       6.220     1.00    246.0      NaN  62.000000     272.0   \n",
       "5530       3.0       2.400     0.65    340.0      0.2  30.400000     117.0   \n",
       "5531       3.0       2.400     0.65    340.0      0.2  30.400000     117.0   \n",
       "5532       7.0       1.914     0.00    268.0      NaN  25.200000     129.0   \n",
       "5533       7.0       1.914     0.00    268.0      NaN  25.200000     129.0   \n",
       "\n",
       "        Zr (ppm)  \n",
       "0     237.000000  \n",
       "1     237.000000  \n",
       "2     199.600000  \n",
       "3     199.600000  \n",
       "4      43.414621  \n",
       "...          ...  \n",
       "5529  157.000000  \n",
       "5530  195.000000  \n",
       "5531  195.000000  \n",
       "5532  129.000000  \n",
       "5533  129.000000  \n",
       "\n",
       "[5534 rows x 53 columns]"
      ]
     },
     "execution_count": 8,
     "metadata": {},
     "output_type": "execute_result"
    }
   ],
   "source": [
    "metadata"
   ]
  },
  {
   "cell_type": "code",
   "execution_count": 3,
   "id": "001c0872",
   "metadata": {},
   "outputs": [],
   "source": []
  },
  {
   "cell_type": "code",
   "execution_count": 4,
   "id": "64c26e60",
   "metadata": {},
   "outputs": [],
   "source": []
  },
  {
   "cell_type": "markdown",
   "id": "7e591c29",
   "metadata": {},
   "source": [
    "### Calculate sensitivities"
   ]
  },
  {
   "cell_type": "code",
   "execution_count": 5,
   "id": "057e5af5",
   "metadata": {},
   "outputs": [
    {
     "name": "stdout",
     "output_type": "stream",
     "text": [
      "Sensitivity calculations for filter 1\n"
     ]
    },
    {
     "data": {
      "application/vnd.jupyter.widget-view+json": {
       "model_id": "bef5a562159d4a80b89806eeacf434df",
       "version_major": 2,
       "version_minor": 0
      },
      "text/plain": [
       "  0%|          | 0/190 [00:00<?, ?it/s]"
      ]
     },
     "metadata": {},
     "output_type": "display_data"
    },
    {
     "name": "stdout",
     "output_type": "stream",
     "text": [
      "['1984AA', 'C11MA159'] had more than 2 duplicates and were excluded\n",
      "Median sensitivity: 49.8\n",
      "Mean sensitivity: 74.6\n"
     ]
    },
    {
     "data": {
      "image/png": "[encoded data removed]",
      "text/plain": [
       "<Figure size 432x288 with 1 Axes>"
      ]
     },
     "metadata": {
      "needs_background": "light"
     },
     "output_type": "display_data"
    },
    {
     "name": "stdout",
     "output_type": "stream",
     "text": [
      "Use median or mean sensitivity? median\n",
      "Sensitivity calculations for filter 2\n"
     ]
    },
    {
     "data": {
      "application/vnd.jupyter.widget-view+json": {
       "model_id": "4f0b7c1c2bca4c9da258a60a88651ae6",
       "version_major": 2,
       "version_minor": 0
      },
      "text/plain": [
       "  0%|          | 0/192 [00:00<?, ?it/s]"
      ]
     },
     "metadata": {},
     "output_type": "display_data"
    },
    {
     "name": "stdout",
     "output_type": "stream",
     "text": [
      "['1984AA', 'C11MA159'] had more than 2 duplicates and were excluded\n",
      "Median sensitivity: 148.9\n",
      "Mean sensitivity: 281.1\n"
     ]
    },
    {
     "data": {
      "image/png": "[encoded data removed]",
      "text/plain": [
       "<Figure size 432x288 with 1 Axes>"
      ]
     },
     "metadata": {
      "needs_background": "light"
     },
     "output_type": "display_data"
    },
    {
     "name": "stdout",
     "output_type": "stream",
     "text": [
      "Use median or mean sensitivity? mean\n"
     ]
    }
   ],
   "source": [
    "o1_sens = calculate_sensitivity(filter=1)\n",
    "o2_sens = calculate_sensitivity(filter=2)"
   ]
  },
  {
   "cell_type": "markdown",
   "id": "8df0dfea",
   "metadata": {},
   "source": [
    "### Conduct calculations"
   ]
  },
  {
   "cell_type": "code",
   "execution_count": 6,
   "id": "8db62ed8",
   "metadata": {},
   "outputs": [
    {
     "name": "stdout",
     "output_type": "stream",
     "text": [
      "Calculating for PLS 0-750\n",
      "LBDQ calculations:\n"
     ]
    },
    {
     "data": {
      "application/vnd.jupyter.widget-view+json": {
       "model_id": "5e28fa65ddb24106ac2dd6d317312af1",
       "version_major": 2,
       "version_minor": 0
      },
      "text/plain": [
       "  0%|          | 0/240 [00:00<?, ?it/s]"
      ]
     },
     "metadata": {},
     "output_type": "display_data"
    },
    {
     "data": {
      "application/vnd.jupyter.widget-view+json": {
       "model_id": "645f5149ea5f4527a06dfaaf13c3f92b",
       "version_major": 2,
       "version_minor": 0
      },
      "text/plain": [
       "  0%|          | 0/240 [00:00<?, ?it/s]"
      ]
     },
     "metadata": {},
     "output_type": "display_data"
    },
    {
     "name": "stdout",
     "output_type": "stream",
     "text": [
      "RMSEP:\n"
     ]
    },
    {
     "data": {
      "application/vnd.jupyter.widget-view+json": {
       "model_id": "af33580c727f498f8a23d5bd50f25d62",
       "version_major": 2,
       "version_minor": 0
      },
      "text/plain": [
       "  0%|          | 0/240 [00:00<?, ?it/s]"
      ]
     },
     "metadata": {},
     "output_type": "display_data"
    },
    {
     "data": {
      "application/vnd.jupyter.widget-view+json": {
       "model_id": "2db6e7795c0e4126b197d0e7ce1ce30e",
       "version_major": 2,
       "version_minor": 0
      },
      "text/plain": [
       "  0%|          | 0/240 [00:00<?, ?it/s]"
      ]
     },
     "metadata": {},
     "output_type": "display_data"
    },
    {
     "name": "stdout",
     "output_type": "stream",
     "text": [
      "Calculating for PLS 250-1000\n",
      "LBDQ calculations:\n"
     ]
    },
    {
     "data": {
      "application/vnd.jupyter.widget-view+json": {
       "model_id": "3673e24256fa437ca3e4b8d071bc47c2",
       "version_major": 2,
       "version_minor": 0
      },
      "text/plain": [
       "  0%|          | 0/240 [00:00<?, ?it/s]"
      ]
     },
     "metadata": {},
     "output_type": "display_data"
    },
    {
     "data": {
      "application/vnd.jupyter.widget-view+json": {
       "model_id": "9e2a7cbf9a2f42d082a48d2b98c5c5a3",
       "version_major": 2,
       "version_minor": 0
      },
      "text/plain": [
       "  0%|          | 0/240 [00:00<?, ?it/s]"
      ]
     },
     "metadata": {},
     "output_type": "display_data"
    },
    {
     "name": "stdout",
     "output_type": "stream",
     "text": [
      "RMSEP:\n"
     ]
    },
    {
     "data": {
      "application/vnd.jupyter.widget-view+json": {
       "model_id": "238c73aa2a0c4d0b973a57fd89b9859e",
       "version_major": 2,
       "version_minor": 0
      },
      "text/plain": [
       "  0%|          | 0/240 [00:00<?, ?it/s]"
      ]
     },
     "metadata": {},
     "output_type": "display_data"
    },
    {
     "data": {
      "application/vnd.jupyter.widget-view+json": {
       "model_id": "7464f57823a342119aa16f625afcb7e2",
       "version_major": 2,
       "version_minor": 0
      },
      "text/plain": [
       "  0%|          | 0/240 [00:00<?, ?it/s]"
      ]
     },
     "metadata": {},
     "output_type": "display_data"
    },
    {
     "name": "stdout",
     "output_type": "stream",
     "text": [
      "Calculating for PLS all\n",
      "LBDQ calculations:\n"
     ]
    },
    {
     "data": {
      "application/vnd.jupyter.widget-view+json": {
       "model_id": "484444eecda244ed810f1180e2178852",
       "version_major": 2,
       "version_minor": 0
      },
      "text/plain": [
       "  0%|          | 0/180 [00:00<?, ?it/s]"
      ]
     },
     "metadata": {},
     "output_type": "display_data"
    },
    {
     "data": {
      "application/vnd.jupyter.widget-view+json": {
       "model_id": "0ef6a7cd1f1644e58e64d4956bdefec6",
       "version_major": 2,
       "version_minor": 0
      },
      "text/plain": [
       "  0%|          | 0/180 [00:00<?, ?it/s]"
      ]
     },
     "metadata": {},
     "output_type": "display_data"
    },
    {
     "name": "stdout",
     "output_type": "stream",
     "text": [
      "RMSEP:\n"
     ]
    },
    {
     "data": {
      "application/vnd.jupyter.widget-view+json": {
       "model_id": "5dd77134bed94364ab71ff1791b881be",
       "version_major": 2,
       "version_minor": 0
      },
      "text/plain": [
       "  0%|          | 0/180 [00:00<?, ?it/s]"
      ]
     },
     "metadata": {},
     "output_type": "display_data"
    },
    {
     "data": {
      "application/vnd.jupyter.widget-view+json": {
       "model_id": "abbc751763d64bdcb3396d3a12734900",
       "version_major": 2,
       "version_minor": 0
      },
      "text/plain": [
       "  0%|          | 0/180 [00:00<?, ?it/s]"
      ]
     },
     "metadata": {},
     "output_type": "display_data"
    },
    {
     "name": "stdout",
     "output_type": "stream",
     "text": [
      "Calculating for lasso 0-750\n",
      "LBDQ calculations:\n"
     ]
    },
    {
     "data": {
      "application/vnd.jupyter.widget-view+json": {
       "model_id": "563e9b1c820e44b8985c1b1c4a5b80af",
       "version_major": 2,
       "version_minor": 0
      },
      "text/plain": [
       "  0%|          | 0/240 [00:00<?, ?it/s]"
      ]
     },
     "metadata": {},
     "output_type": "display_data"
    },
    {
     "data": {
      "application/vnd.jupyter.widget-view+json": {
       "model_id": "7a5aec51c06d429c8fb1425410507fb3",
       "version_major": 2,
       "version_minor": 0
      },
      "text/plain": [
       "  0%|          | 0/240 [00:00<?, ?it/s]"
      ]
     },
     "metadata": {},
     "output_type": "display_data"
    },
    {
     "name": "stdout",
     "output_type": "stream",
     "text": [
      "RMSEP:\n"
     ]
    },
    {
     "data": {
      "application/vnd.jupyter.widget-view+json": {
       "model_id": "963923b0d4d140a4bb9d19575596abef",
       "version_major": 2,
       "version_minor": 0
      },
      "text/plain": [
       "  0%|          | 0/240 [00:00<?, ?it/s]"
      ]
     },
     "metadata": {},
     "output_type": "display_data"
    },
    {
     "data": {
      "application/vnd.jupyter.widget-view+json": {
       "model_id": "474e47aa31144de5a52ad5c71975ce3a",
       "version_major": 2,
       "version_minor": 0
      },
      "text/plain": [
       "  0%|          | 0/240 [00:00<?, ?it/s]"
      ]
     },
     "metadata": {},
     "output_type": "display_data"
    },
    {
     "name": "stdout",
     "output_type": "stream",
     "text": [
      "Calculating for lasso 250-1000\n",
      "LBDQ calculations:\n"
     ]
    },
    {
     "data": {
      "application/vnd.jupyter.widget-view+json": {
       "model_id": "34a261e79bbf4e6790397990db8edbbe",
       "version_major": 2,
       "version_minor": 0
      },
      "text/plain": [
       "  0%|          | 0/240 [00:00<?, ?it/s]"
      ]
     },
     "metadata": {},
     "output_type": "display_data"
    },
    {
     "data": {
      "application/vnd.jupyter.widget-view+json": {
       "model_id": "2605533b33a644429897a567d6acfc2e",
       "version_major": 2,
       "version_minor": 0
      },
      "text/plain": [
       "  0%|          | 0/240 [00:00<?, ?it/s]"
      ]
     },
     "metadata": {},
     "output_type": "display_data"
    },
    {
     "name": "stdout",
     "output_type": "stream",
     "text": [
      "RMSEP:\n"
     ]
    },
    {
     "data": {
      "application/vnd.jupyter.widget-view+json": {
       "model_id": "1a796e6946c04c25ba6b4925f5405a1f",
       "version_major": 2,
       "version_minor": 0
      },
      "text/plain": [
       "  0%|          | 0/240 [00:00<?, ?it/s]"
      ]
     },
     "metadata": {},
     "output_type": "display_data"
    },
    {
     "data": {
      "application/vnd.jupyter.widget-view+json": {
       "model_id": "26fa14a1392444cbbfa4e8774c01c7ff",
       "version_major": 2,
       "version_minor": 0
      },
      "text/plain": [
       "  0%|          | 0/240 [00:00<?, ?it/s]"
      ]
     },
     "metadata": {},
     "output_type": "display_data"
    },
    {
     "name": "stdout",
     "output_type": "stream",
     "text": [
      "Calculating for lasso all\n",
      "LBDQ calculations:\n"
     ]
    },
    {
     "data": {
      "application/vnd.jupyter.widget-view+json": {
       "model_id": "bd4c4fec655f4bbfa066a4dde6121ded",
       "version_major": 2,
       "version_minor": 0
      },
      "text/plain": [
       "  0%|          | 0/177 [00:00<?, ?it/s]"
      ]
     },
     "metadata": {},
     "output_type": "display_data"
    },
    {
     "data": {
      "application/vnd.jupyter.widget-view+json": {
       "model_id": "bc65845f79804269813e4eab79de3206",
       "version_major": 2,
       "version_minor": 0
      },
      "text/plain": [
       "  0%|          | 0/177 [00:00<?, ?it/s]"
      ]
     },
     "metadata": {},
     "output_type": "display_data"
    },
    {
     "name": "stdout",
     "output_type": "stream",
     "text": [
      "RMSEP:\n"
     ]
    },
    {
     "data": {
      "application/vnd.jupyter.widget-view+json": {
       "model_id": "f1a7b828e87145a99c81ba1aa2b07b1d",
       "version_major": 2,
       "version_minor": 0
      },
      "text/plain": [
       "  0%|          | 0/177 [00:00<?, ?it/s]"
      ]
     },
     "metadata": {},
     "output_type": "display_data"
    },
    {
     "data": {
      "application/vnd.jupyter.widget-view+json": {
       "model_id": "934c14f5b7ba4506a4041f8cc3f76511",
       "version_major": 2,
       "version_minor": 0
      },
      "text/plain": [
       "  0%|          | 0/177 [00:00<?, ?it/s]"
      ]
     },
     "metadata": {},
     "output_type": "display_data"
    },
    {
     "data": {
      "text/html": [
       "<div>\n",
       "<style scoped>\n",
       "    .dataframe tbody tr th:only-of-type {\n",
       "        vertical-align: middle;\n",
       "    }\n",
       "\n",
       "    .dataframe tbody tr th {\n",
       "        vertical-align: top;\n",
       "    }\n",
       "\n",
       "    .dataframe thead th {\n",
       "        text-align: right;\n",
       "    }\n",
       "</style>\n",
       "<table border=\"1\" class=\"dataframe\">\n",
       "  <thead>\n",
       "    <tr style=\"text-align: right;\">\n",
       "      <th></th>\n",
       "      <th>element</th>\n",
       "      <th>filter</th>\n",
       "      <th>regression</th>\n",
       "      <th>num_range</th>\n",
       "      <th>LOB</th>\n",
       "      <th>LOD</th>\n",
       "      <th>LOQ</th>\n",
       "      <th>avg_comp</th>\n",
       "      <th>RMSEP</th>\n",
       "      <th>R2</th>\n",
       "    </tr>\n",
       "  </thead>\n",
       "  <tbody>\n",
       "    <tr>\n",
       "      <th>0</th>\n",
       "      <td>Al2O3</td>\n",
       "      <td>O1</td>\n",
       "      <td>PLS</td>\n",
       "      <td>0-750</td>\n",
       "      <td>0.079006</td>\n",
       "      <td>0.158492</td>\n",
       "      <td>0.480279</td>\n",
       "      <td>13.802851</td>\n",
       "      <td>2.953625</td>\n",
       "      <td>0.292765</td>\n",
       "    </tr>\n",
       "    <tr>\n",
       "      <th>1</th>\n",
       "      <td>CaO</td>\n",
       "      <td>O1</td>\n",
       "      <td>PLS</td>\n",
       "      <td>0-750</td>\n",
       "      <td>0.081649</td>\n",
       "      <td>0.163794</td>\n",
       "      <td>0.496346</td>\n",
       "      <td>6.539167</td>\n",
       "      <td>2.426925</td>\n",
       "      <td>0.708863</td>\n",
       "    </tr>\n",
       "    <tr>\n",
       "      <th>2</th>\n",
       "      <td>Fe2O3</td>\n",
       "      <td>O1</td>\n",
       "      <td>PLS</td>\n",
       "      <td>0-750</td>\n",
       "      <td>0.008947</td>\n",
       "      <td>0.017949</td>\n",
       "      <td>0.054392</td>\n",
       "      <td>8.092070</td>\n",
       "      <td>1.314764</td>\n",
       "      <td>0.924568</td>\n",
       "    </tr>\n",
       "    <tr>\n",
       "      <th>3</th>\n",
       "      <td>MgO</td>\n",
       "      <td>O1</td>\n",
       "      <td>PLS</td>\n",
       "      <td>0-750</td>\n",
       "      <td>0.006960</td>\n",
       "      <td>0.013963</td>\n",
       "      <td>0.042312</td>\n",
       "      <td>6.258273</td>\n",
       "      <td>5.231678</td>\n",
       "      <td>0.328343</td>\n",
       "    </tr>\n",
       "    <tr>\n",
       "      <th>4</th>\n",
       "      <td>MnO</td>\n",
       "      <td>O1</td>\n",
       "      <td>PLS</td>\n",
       "      <td>0-750</td>\n",
       "      <td>0.008493</td>\n",
       "      <td>0.017038</td>\n",
       "      <td>0.051632</td>\n",
       "      <td>0.165387</td>\n",
       "      <td>0.058478</td>\n",
       "      <td>0.932526</td>\n",
       "    </tr>\n",
       "    <tr>\n",
       "      <th>...</th>\n",
       "      <td>...</td>\n",
       "      <td>...</td>\n",
       "      <td>...</td>\n",
       "      <td>...</td>\n",
       "      <td>...</td>\n",
       "      <td>...</td>\n",
       "      <td>...</td>\n",
       "      <td>...</td>\n",
       "      <td>...</td>\n",
       "      <td>...</td>\n",
       "    </tr>\n",
       "    <tr>\n",
       "      <th>355</th>\n",
       "      <td>V</td>\n",
       "      <td>O2</td>\n",
       "      <td>lasso</td>\n",
       "      <td>all</td>\n",
       "      <td>41.458137</td>\n",
       "      <td>83.168300</td>\n",
       "      <td>252.025150</td>\n",
       "      <td>NaN</td>\n",
       "      <td>NaN</td>\n",
       "      <td>NaN</td>\n",
       "    </tr>\n",
       "    <tr>\n",
       "      <th>356</th>\n",
       "      <td>W</td>\n",
       "      <td>O2</td>\n",
       "      <td>lasso</td>\n",
       "      <td>all</td>\n",
       "      <td>2.326984</td>\n",
       "      <td>4.668114</td>\n",
       "      <td>14.145799</td>\n",
       "      <td>NaN</td>\n",
       "      <td>NaN</td>\n",
       "      <td>NaN</td>\n",
       "    </tr>\n",
       "    <tr>\n",
       "      <th>357</th>\n",
       "      <td>Y</td>\n",
       "      <td>O2</td>\n",
       "      <td>lasso</td>\n",
       "      <td>all</td>\n",
       "      <td>1.714465</td>\n",
       "      <td>3.439352</td>\n",
       "      <td>10.422280</td>\n",
       "      <td>NaN</td>\n",
       "      <td>NaN</td>\n",
       "      <td>NaN</td>\n",
       "    </tr>\n",
       "    <tr>\n",
       "      <th>358</th>\n",
       "      <td>Zn</td>\n",
       "      <td>O2</td>\n",
       "      <td>lasso</td>\n",
       "      <td>all</td>\n",
       "      <td>11.725278</td>\n",
       "      <td>23.521834</td>\n",
       "      <td>71.278283</td>\n",
       "      <td>NaN</td>\n",
       "      <td>NaN</td>\n",
       "      <td>NaN</td>\n",
       "    </tr>\n",
       "    <tr>\n",
       "      <th>359</th>\n",
       "      <td>U</td>\n",
       "      <td>O2</td>\n",
       "      <td>lasso</td>\n",
       "      <td>all</td>\n",
       "      <td>0.560111</td>\n",
       "      <td>1.123626</td>\n",
       "      <td>3.404927</td>\n",
       "      <td>NaN</td>\n",
       "      <td>NaN</td>\n",
       "      <td>NaN</td>\n",
       "    </tr>\n",
       "  </tbody>\n",
       "</table>\n",
       "<p>360 rows × 10 columns</p>\n",
       "</div>"
      ],
      "text/plain": [
       "    element filter regression num_range        LOB        LOD         LOQ  \\\n",
       "0     Al2O3     O1        PLS     0-750   0.079006   0.158492    0.480279   \n",
       "1       CaO     O1        PLS     0-750   0.081649   0.163794    0.496346   \n",
       "2     Fe2O3     O1        PLS     0-750   0.008947   0.017949    0.054392   \n",
       "3       MgO     O1        PLS     0-750   0.006960   0.013963    0.042312   \n",
       "4       MnO     O1        PLS     0-750   0.008493   0.017038    0.051632   \n",
       "..      ...    ...        ...       ...        ...        ...         ...   \n",
       "355       V     O2      lasso       all  41.458137  83.168300  252.025150   \n",
       "356       W     O2      lasso       all   2.326984   4.668114   14.145799   \n",
       "357       Y     O2      lasso       all   1.714465   3.439352   10.422280   \n",
       "358      Zn     O2      lasso       all  11.725278  23.521834   71.278283   \n",
       "359       U     O2      lasso       all   0.560111   1.123626    3.404927   \n",
       "\n",
       "      avg_comp     RMSEP        R2  \n",
       "0    13.802851  2.953625  0.292765  \n",
       "1     6.539167  2.426925  0.708863  \n",
       "2     8.092070  1.314764  0.924568  \n",
       "3     6.258273  5.231678  0.328343  \n",
       "4     0.165387  0.058478  0.932526  \n",
       "..         ...       ...       ...  \n",
       "355        NaN       NaN       NaN  \n",
       "356        NaN       NaN       NaN  \n",
       "357        NaN       NaN       NaN  \n",
       "358        NaN       NaN       NaN  \n",
       "359        NaN       NaN       NaN  \n",
       "\n",
       "[360 rows x 10 columns]"
      ]
     },
     "metadata": {},
     "output_type": "display_data"
    }
   ],
   "source": [
    "# get results for all data\n",
    "full_table = pd.DataFrame()\n",
    "\n",
    "regressions = ['PLS', 'lasso']\n",
    "regions = ['0-750', '250-1000', 'all']\n",
    "\n",
    "for regression in regressions:\n",
    "    for region in regions:\n",
    "        results = get_results(comps, regression, region, o1_sens, o2_sens)\n",
    "        full_table = pd.concat([full_table, results], ignore_index=True)\n",
    "        \n",
    "full_table.reindex(columns=['element',\n",
    "                            'filter',\n",
    "                            'regression',\n",
    "                            'num_range',\n",
    "                            'avg_comp',\n",
    "                            'LOB',\n",
    "                            'LOD',\n",
    "                            'LOQ',\n",
    "                            'RMSEP',\n",
    "                            'R2'])\n",
    "\n",
    "display(full_table)"
   ]
  },
  {
   "cell_type": "markdown",
   "id": "a811f19f",
   "metadata": {},
   "source": [
    "#### Export"
   ]
  },
  {
   "cell_type": "code",
   "execution_count": 7,
   "id": "71021a82",
   "metadata": {},
   "outputs": [],
   "source": [
    "full_epath = \"G:\\\\My Drive\\\\Darby Work\\\\XRF fundamentals vs. MVA\\\\full_results_table.csv\"\n",
    "full_table.to_csv(full_epath, index=False)"
   ]
  }
 ],
 "metadata": {
  "kernelspec": {
   "display_name": "Python 3 (ipykernel)",
   "language": "python",
   "name": "python3"
  },
  "language_info": {
   "codemirror_mode": {
    "name": "ipython",
    "version": 3
   },
   "file_extension": ".py",
   "mimetype": "text/x-python",
   "name": "python",
   "nbconvert_exporter": "python",
   "pygments_lexer": "ipython3",
   "version": "3.8.8"
  }
 },
 "nbformat": 4,
 "nbformat_minor": 5
}
