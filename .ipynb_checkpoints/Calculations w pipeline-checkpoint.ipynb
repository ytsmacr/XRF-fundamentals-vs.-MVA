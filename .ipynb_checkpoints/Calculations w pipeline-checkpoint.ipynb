{
 "cells": [
  {
   "cell_type": "code",
   "execution_count": 1,
   "id": "c9e78671",
   "metadata": {},
   "outputs": [],
   "source": [
    "import pandas as pd\n",
    "from XRF_calc_tools import *\n",
    "\n",
    "# get version(s)\n",
    "#print(\"pandas version\",pd.__version__)"
   ]
  },
  {
   "cell_type": "code",
   "execution_count": 14,
   "id": "10b58df3",
   "metadata": {},
   "outputs": [],
   "source": [
    "element_list = ['Al2O3', 'CaO', 'Fe2O3', 'MgO', 'MnO', 'P2O5', \n",
    "                'SiO2', 'TiO2', 'As', 'Bi', 'Cl', 'Cr', 'Cu', \n",
    "                'Hg', 'Mo', 'Nb', 'Ni', 'Pb', 'Rb', 'S', 'Sn', \n",
    "                'Sr', 'Ta', 'Th', 'U', 'V', 'W', 'Y', 'Zn', 'Zr']\n",
    "num_ranges = ['all', '0-750', '250-1000']\n",
    "filters = ['O1', 'O2']"
   ]
  },
  {
   "cell_type": "markdown",
   "id": "fc548375",
   "metadata": {},
   "source": [
    "#### 1. Read in data and references"
   ]
  },
  {
   "cell_type": "code",
   "execution_count": 9,
   "id": "befd5b6f",
   "metadata": {},
   "outputs": [],
   "source": [
    "# get spectra\n",
    "spectra_path = \"Z:\\\\data_pXRF\\\\MHC_Olympus_spectra.csv\"\n",
    "spectra = pd.read_csv(spectra_path)\n",
    "\n",
    "### select samples with olympus predictions\n",
    "pred_samples = list(metadata[\n",
    "    metadata['Olympus-Predicted'] == 'yes'\n",
    "]['pkey'])\n",
    "\n",
    "### add wave column\n",
    "pred_samples.insert(0, 'wave')\n",
    "pred_spectra = spectra.filter(\n",
    "    items = pred_samples\n",
    ")\n",
    "\n",
    "o1_spectra = pred_spectra.filter(regex=('(_1$)|(wave)'), axis=1)\n",
    "o2_spectra = pred_spectra.filter(regex=('(_2$)|(wave)'), axis=1)\n",
    "\n",
    "# get compositions\n",
    "metadata_path = \"Z:\\\\data_pXRF\\\\MHC_Olympus_metadata.csv\"\n",
    "metadata = pd.read_csv(metadata_path)\n",
    "comps = metadata.drop(metadata.columns[1:8], axis=1)\n",
    "comps.columns = comps.columns.map(lambda x: x.split()[0])\n",
    "comps\n",
    "\n",
    "o1_comps = comps[comps['filter']=='O1']\n",
    "o2_comps = comps[comps['filter']=='O2']\n",
    "\n",
    "# outlier limits\n",
    "limits_path = \"Z:\\\\Millennium Set\\\\near_zero&outliers_summary_091021.xlsx\"\n",
    "limits = pd.read_excel(limits_path)\n",
    "limits = pd.Series(limits['Outlier limit'].values, index=limits['Element']).to_dict()"
   ]
  },
  {
   "cell_type": "markdown",
   "id": "36c3d3e7",
   "metadata": {},
   "source": [
    "#### 2. Calculate instrument sensitivities"
   ]
  },
  {
   "cell_type": "code",
   "execution_count": null,
   "id": "27f03002",
   "metadata": {},
   "outputs": [],
   "source": [
    "o1_sens = calculate_sensitivity(filter=1)\n",
    "o2_sens = calculate_sensitivity(filter=2)"
   ]
  },
  {
   "cell_type": "markdown",
   "id": "717b24de",
   "metadata": {},
   "source": [
    "#### 3. Get training metadata and spectra"
   ]
  },
  {
   "cell_type": "code",
   "execution_count": 3,
   "id": "001c0872",
   "metadata": {},
   "outputs": [],
   "source": [
    "for filter in filters:\n",
    "    #for regression in regressions:\n",
    "    for region in regions:\n",
    "        for element in element_list:\n",
    "            "
   ]
  },
  {
   "cell_type": "code",
   "execution_count": 4,
   "id": "64c26e60",
   "metadata": {},
   "outputs": [],
   "source": []
  },
  {
   "cell_type": "markdown",
   "id": "2da9545b",
   "metadata": {},
   "source": [
    "#### 4. Generate LBDQ"
   ]
  },
  {
   "cell_type": "markdown",
   "id": "debab718",
   "metadata": {},
   "source": [
    "#### 5. Test models"
   ]
  },
  {
   "cell_type": "markdown",
   "id": "413f16f6",
   "metadata": {},
   "source": [
    "#### 6. Accumulate results"
   ]
  },
  {
   "cell_type": "markdown",
   "id": "1813d4c9",
   "metadata": {},
   "source": [
    "#### 7. Make figures"
   ]
  }
 ],
 "metadata": {
  "kernelspec": {
   "display_name": "Python 3 (ipykernel)",
   "language": "python",
   "name": "python3"
  },
  "language_info": {
   "codemirror_mode": {
    "name": "ipython",
    "version": 3
   },
   "file_extension": ".py",
   "mimetype": "text/x-python",
   "name": "python",
   "nbconvert_exporter": "python",
   "pygments_lexer": "ipython3",
   "version": "3.8.8"
  }
 },
 "nbformat": 4,
 "nbformat_minor": 5
}
