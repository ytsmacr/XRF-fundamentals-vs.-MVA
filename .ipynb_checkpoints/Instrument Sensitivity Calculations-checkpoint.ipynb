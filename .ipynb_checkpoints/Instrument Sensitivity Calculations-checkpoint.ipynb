{
 "cells": [
  {
   "cell_type": "code",
   "execution_count": 91,
   "id": "95d1feb3",
   "metadata": {},
   "outputs": [],
   "source": [
    "import pandas as pd\n",
    "from tqdm.notebook import tqdm\n",
    "# define directory\n",
    "fp = \"C:\\\\Users\\\\ytsma22c\\\\Google Drive\\\\Darby Work\\\\Ytsma and Dyar 2021 (LOD paper)\\\\\""
   ]
  },
  {
   "cell_type": "markdown",
   "id": "1c9b7ada",
   "metadata": {},
   "source": [
    "## Braga method"
   ]
  },
  {
   "cell_type": "code",
   "execution_count": 97,
   "id": "e6036df2",
   "metadata": {},
   "outputs": [],
   "source": [
    "# define blank/noise regions in ChemLIBS and ChemCam spectra\n",
    "blank_braga = pd.read_csv(fp + \"figures\\\\braga_noise_regions.csv\") \n",
    "\n",
    "# import all spectra\n",
    "cl_earth = pd.read_csv(fp + \"CL_all_Earth_spectra.csv\")\n",
    "cl_mars = pd.read_csv(fp + \"CL_all_Mars_spectra.csv\")\n",
    "cl_vacuum = pd.read_csv(fp + \"CL_all_Vacuum_spectra.csv\")\n",
    "cc_mars = pd.read_csv(fp + \"CC_all_Mars_spectra.csv\")"
   ]
  },
  {
   "cell_type": "code",
   "execution_count": 95,
   "id": "ba53002c",
   "metadata": {},
   "outputs": [
    {
     "name": "stdout",
     "output_type": "stream",
     "text": [
      "Datasets cleaned:\n"
     ]
    },
    {
     "data": {
      "application/vnd.jupyter.widget-view+json": {
       "model_id": "e34d78266cf74356bf33cfaa42eec1e9",
       "version_major": 2,
       "version_minor": 0
      },
      "text/plain": [
       "  0%|          | 0/4 [00:00<?, ?it/s]"
      ]
     },
     "metadata": {},
     "output_type": "display_data"
    },
    {
     "name": "stdout",
     "output_type": "stream",
     "text": [
      "Rows cleaned:\n"
     ]
    },
    {
     "data": {
      "application/vnd.jupyter.widget-view+json": {
       "model_id": "03393df94f69485fba7b660c5a872e46",
       "version_major": 2,
       "version_minor": 0
      },
      "text/plain": [
       "  0%|          | 0/5485 [00:00<?, ?it/s]"
      ]
     },
     "metadata": {},
     "output_type": "display_data"
    },
    {
     "name": "stdout",
     "output_type": "stream",
     "text": [
      "Rows cleaned:\n"
     ]
    },
    {
     "data": {
      "application/vnd.jupyter.widget-view+json": {
       "model_id": "d43ebbcf4ae14398a6d82945567b4ae0",
       "version_major": 2,
       "version_minor": 0
      },
      "text/plain": [
       "  0%|          | 0/5485 [00:00<?, ?it/s]"
      ]
     },
     "metadata": {},
     "output_type": "display_data"
    },
    {
     "name": "stdout",
     "output_type": "stream",
     "text": [
      "Rows cleaned:\n"
     ]
    },
    {
     "data": {
      "application/vnd.jupyter.widget-view+json": {
       "model_id": "128fde9b82d644e7af2b3ff4a2d1b864",
       "version_major": 2,
       "version_minor": 0
      },
      "text/plain": [
       "  0%|          | 0/5485 [00:00<?, ?it/s]"
      ]
     },
     "metadata": {},
     "output_type": "display_data"
    },
    {
     "name": "stdout",
     "output_type": "stream",
     "text": [
      "Rows cleaned:\n"
     ]
    },
    {
     "data": {
      "application/vnd.jupyter.widget-view+json": {
       "model_id": "6ddc93c9ef1f455c850a4b0736f8f3f9",
       "version_major": 2,
       "version_minor": 0
      },
      "text/plain": [
       "  0%|          | 0/5485 [00:00<?, ?it/s]"
      ]
     },
     "metadata": {},
     "output_type": "display_data"
    }
   ],
   "source": [
    "df_list = [cc_mars, cl_earth, cl_mars, cl_vacuum]\n",
    "# could probably speed this up if I learned instead how to save...\n",
    "print(\"Datasets cleaned:\")\n",
    "for df in tqdm(df_list):\n",
    "    print(\"Rows cleaned:\")\n",
    "    for row in tqdm(df.index):\n",
    "        nm = df['wave'][row]\n",
    "        # remove rows below first region\n",
    "        if nm < blank_braga['start'][0]:\n",
    "            df.drop(row, axis = 'index', inplace=True)\n",
    "        # remove rows after last region\n",
    "        elif nm > blank_braga['stop'][len(blank_braga)-1]:\n",
    "            df.drop(row, axis = 'index', inplace=True)\n",
    "        # remove rows between the regions\n",
    "        for region in range(len(blank_braga)-2):\n",
    "            if (nm > blank_braga['stop'][region]) & (nm < blank_braga['start'][region+1]):\n",
    "                df.drop(row, axis = 'index', inplace=True)"
   ]
  },
  {
   "cell_type": "code",
   "execution_count": null,
   "id": "93aa7be7",
   "metadata": {},
   "outputs": [
    {
     "name": "stdout",
     "output_type": "stream",
     "text": [
      "Datasets cleaned:\n"
     ]
    },
    {
     "data": {
      "application/vnd.jupyter.widget-view+json": {
       "model_id": "ffd3c7b2c4d2410e9e3e3a4c9b5d7026",
       "version_major": 2,
       "version_minor": 0
      },
      "text/plain": [
       "  0%|          | 0/4 [00:00<?, ?it/s]"
      ]
     },
     "metadata": {},
     "output_type": "display_data"
    },
    {
     "name": "stdout",
     "output_type": "stream",
     "text": [
      "Rows cleaned:\n"
     ]
    },
    {
     "data": {
      "application/vnd.jupyter.widget-view+json": {
       "model_id": "af5ad82de0dc40c2b129de98e511dc50",
       "version_major": 2,
       "version_minor": 0
      },
      "text/plain": [
       "  0%|          | 0/5485 [00:00<?, ?it/s]"
      ]
     },
     "metadata": {},
     "output_type": "display_data"
    },
    {
     "name": "stdout",
     "output_type": "stream",
     "text": [
      "Rows cleaned:\n"
     ]
    },
    {
     "data": {
      "application/vnd.jupyter.widget-view+json": {
       "model_id": "492adb0f1c3441b9a74d0f718e8729a2",
       "version_major": 2,
       "version_minor": 0
      },
      "text/plain": [
       "  0%|          | 0/5485 [00:00<?, ?it/s]"
      ]
     },
     "metadata": {},
     "output_type": "display_data"
    },
    {
     "name": "stdout",
     "output_type": "stream",
     "text": [
      "Rows cleaned:\n"
     ]
    },
    {
     "data": {
      "application/vnd.jupyter.widget-view+json": {
       "model_id": "051b0c0d2a3b4447acf68ae7a306b712",
       "version_major": 2,
       "version_minor": 0
      },
      "text/plain": [
       "  0%|          | 0/5485 [00:00<?, ?it/s]"
      ]
     },
     "metadata": {},
     "output_type": "display_data"
    },
    {
     "name": "stdout",
     "output_type": "stream",
     "text": [
      "Rows cleaned:\n"
     ]
    },
    {
     "data": {
      "application/vnd.jupyter.widget-view+json": {
       "model_id": "d7ec45055b4241f3b5db6d5ccab36f94",
       "version_major": 2,
       "version_minor": 0
      },
      "text/plain": [
       "  0%|          | 0/5485 [00:00<?, ?it/s]"
      ]
     },
     "metadata": {},
     "output_type": "display_data"
    }
   ],
   "source": [
    "df_list = [cc_mars, cl_earth, cl_mars, cl_vacuum]\n",
    "\n",
    "print(\"Datasets cleaned:\")\n",
    "for df in tqdm(df_list):\n",
    "    print(\"Rows cleaned:\")\n",
    "    temp_df = df\n",
    "    for row in tqdm(temp_df.index):\n",
    "        nm = temp_df['wave'][row]\n",
    "        # remove rows below first region\n",
    "        if nm < blank_braga['start'][0]:\n",
    "            continue\n",
    "        # remove rows after last region\n",
    "        elif nm > blank_braga['stop'][len(blank_braga)-1]:\n",
    "            continue\n",
    "        # remove rows between the regions\n",
    "        for region in range(len(blank_braga)-2):\n",
    "            if (nm > blank_braga['stop'][region]) & (nm < blank_braga['start'][region+1]):\n",
    "                continue\n",
    "        temp_df.drop(row, axis = 'index', inplace=True)\n",
    "    df.drop(temp_df.index, axis = 'index', inplace=True)"
   ]
  },
  {
   "cell_type": "code",
   "execution_count": 96,
   "id": "2c848940",
   "metadata": {},
   "outputs": [
    {
     "name": "stdout",
     "output_type": "stream",
     "text": [
      "172\n",
      "172\n",
      "172\n",
      "172\n"
     ]
    }
   ],
   "source": [
    "for df in df_list:\n",
    "    print(len(df))"
   ]
  },
  {
   "cell_type": "code",
   "execution_count": null,
   "id": "c6f6d44a",
   "metadata": {},
   "outputs": [],
   "source": [
    "## TRY MAKING WAVE INDEX TO SPEED UP?"
   ]
  }
 ],
 "metadata": {
  "kernelspec": {
   "display_name": "Python 3 (ipykernel)",
   "language": "python",
   "name": "python3"
  },
  "language_info": {
   "codemirror_mode": {
    "name": "ipython",
    "version": 3
   },
   "file_extension": ".py",
   "mimetype": "text/x-python",
   "name": "python",
   "nbconvert_exporter": "python",
   "pygments_lexer": "ipython3",
   "version": "3.8.8"
  }
 },
 "nbformat": 4,
 "nbformat_minor": 5
}
