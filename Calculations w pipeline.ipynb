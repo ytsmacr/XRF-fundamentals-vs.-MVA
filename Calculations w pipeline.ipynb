{
 "cells": [
  {
   "cell_type": "code",
   "execution_count": 1,
   "id": "c9e78671",
   "metadata": {},
   "outputs": [],
   "source": [
    "import pandas as pd\n",
    "from XRF_calc_tools import *\n",
    "\n",
    "# get version(s)\n",
    "#print(\"pandas version\",pd.__version__)"
   ]
  },
  {
   "cell_type": "code",
   "execution_count": 2,
   "id": "10b58df3",
   "metadata": {},
   "outputs": [],
   "source": [
    "element_list = ['Al2O3', 'CaO', 'Fe2O3', 'MgO', 'MnO', 'P2O5', \n",
    "                'SiO2', 'TiO2', 'As', 'Bi', 'Cl', 'Cr', 'Cu', \n",
    "                'Hg', 'Mo', 'Nb', 'Ni', 'Pb', 'Rb', 'S', 'Sn', \n",
    "                'Sr', 'Ta', 'Th', 'U', 'V', 'W', 'Y', 'Zn', 'Zr']\n",
    "num_ranges = ['all', '0-750', '250-1000']\n",
    "filters = ['O1', 'O2']"
   ]
  },
  {
   "cell_type": "markdown",
   "id": "fc548375",
   "metadata": {},
   "source": [
    "#### 1. Read in data and references"
   ]
  },
  {
   "cell_type": "code",
   "execution_count": 3,
   "id": "befd5b6f",
   "metadata": {},
   "outputs": [],
   "source": [
    "# get compositions\n",
    "metadata_path = \"Z:\\\\data_pXRF\\\\MHC_Olympus_metadata.csv\"\n",
    "metadata = pd.read_csv(metadata_path)\n",
    "metadata = metadata[\n",
    "    metadata['Olympus-Predicted'] == 'yes'\n",
    "]\n",
    "pred_samples = list(metadata['pkey'])\n",
    "o1_comps = metadata[metadata['Filter']=='O1'].reset_index(drop=True)\n",
    "o2_comps = metadata[metadata['Filter']=='O2'].reset_index(drop=True)\n",
    "\n",
    "for comps in [o1_comps, o2_comps]:\n",
    "    comps.columns = comps.columns.map(lambda x: x.split()[0])\n",
    "\n",
    "# get spectra\n",
    "spectra_path = \"Z:\\\\data_pXRF\\\\MHC_Olympus_spectra.csv\"\n",
    "spectra = pd.read_csv(spectra_path)\n",
    "### select samples with olympus predictions\n",
    "pred_samples.insert(0, 'wave')\n",
    "pred_spectra = spectra[pred_samples]\n",
    "\n",
    "o1_spectra = pred_spectra.filter(regex=('(_1$)|(wave)'), axis=1)\n",
    "o2_spectra = pred_spectra.filter(regex=('(_2$)|(wave)'), axis=1)"
   ]
  },
  {
   "cell_type": "markdown",
   "id": "36c3d3e7",
   "metadata": {},
   "source": [
    "#### 2. Calculate instrument sensitivities"
   ]
  },
  {
   "cell_type": "code",
   "execution_count": null,
   "id": "27f03002",
   "metadata": {},
   "outputs": [
    {
     "name": "stdout",
     "output_type": "stream",
     "text": [
      "Sensitivity calculations for filter 1\n"
     ]
    },
    {
     "data": {
      "application/vnd.jupyter.widget-view+json": {
       "model_id": "fc32aaae9e3144bea3cb1c2c95339208",
       "version_major": 2,
       "version_minor": 0
      },
      "text/plain": [
       "  0%|          | 0/190 [00:00<?, ?it/s]"
      ]
     },
     "metadata": {},
     "output_type": "display_data"
    },
    {
     "name": "stdout",
     "output_type": "stream",
     "text": [
      "['1984AA', 'C11MA159'] had more than 2 duplicates and were excluded\n",
      "Median sensitivity: 49.8\n",
      "Mean sensitivity: 74.6\n"
     ]
    },
    {
     "data": {
      "image/png": "[encoded data removed]",
      "text/plain": [
       "<Figure size 432x288 with 1 Axes>"
      ]
     },
     "metadata": {
      "needs_background": "light"
     },
     "output_type": "display_data"
    }
   ],
   "source": [
    "o1_sens = calculate_sensitivity(filter=1)\n",
    "o2_sens = calculate_sensitivity(filter=2)"
   ]
  },
  {
   "cell_type": "markdown",
   "id": "717b24de",
   "metadata": {},
   "source": [
    "#### 3. Run models, get LBDQ, test models"
   ]
  },
  {
   "cell_type": "code",
   "execution_count": null,
   "id": "001c0872",
   "metadata": {},
   "outputs": [],
   "source": [
    "# define variables for the PLS models\n",
    "max_components = 15\n",
    "n_folds = 10\n",
    "\n",
    "# prep lists for model summaries\n",
    "elems = []\n",
    "ranges = []\n",
    "rmsecs = []\n",
    "rmsecvs = []\n",
    "components = []\n",
    "test_r2s = []\n",
    "train_r2s = []\n",
    "rmseps = []\n",
    "n_trains = []\n",
    "n_tests = []\n",
    "lobs = []\n",
    "lods = []\n",
    "loqs = []\n",
    "fs = []\n",
    "\n",
    "for f in filters:\n",
    "    # select relevant metadata and sensitivity\n",
    "    meta = o1_comps if f == 'O1' else o2_comps\n",
    "    sensitivity = o1_sens if f == 'O1' else o2_sens\n",
    "    \n",
    "    #for regression in regressions: (ADD OTHER REGRESSIONS HERE IF DO IT)\n",
    "    for num_range in num_ranges:\n",
    "        print(\"\\rRunning for\", f, num_range, \"      \")\n",
    "        \n",
    "        for element in tqdm(element_list, leave=False):           \n",
    "            # train model\n",
    "            rmsecv, component, train_r2, rmsec, n_train = train_PLS_model(\n",
    "                            element, \n",
    "                            f,\n",
    "                            meta, \n",
    "                            spectra,\n",
    "                            max_components,\n",
    "                            n_folds,\n",
    "                            num_range)\n",
    "\n",
    "            # get LBDQ\n",
    "            lob, lod, loq = calculate_lbdq(element, \n",
    "                                           num_range, \n",
    "                                           sensitivity)\n",
    "\n",
    "            # test models\n",
    "            if num_range == 'all':\n",
    "                rmseps.append('NaN')\n",
    "                n_tests.append('NaN')\n",
    "                test_r2s.append('NaN')\n",
    "            else:\n",
    "                n_test, test_r2, rmsep = test_model(element, \n",
    "                                               f,\n",
    "                                               loq, \n",
    "                                               num_range, \n",
    "                                               meta,\n",
    "                                               spectra)\n",
    "                n_tests.append(n_test)\n",
    "                test_r2s.append(test_r2)\n",
    "                rmseps.append(rmsep)\n",
    "                \n",
    "            # fill data\n",
    "            elems.append(element)\n",
    "            fs.append(f)\n",
    "            ranges.append(num_range)\n",
    "            n_trains.append(n_train)\n",
    "            rmsecs.append(rmsec)\n",
    "            rmsecvs.append(rmsecv)\n",
    "            train_r2s.append(train_r2)\n",
    "            components.append(component)\n",
    "            lobs.append(lob)\n",
    "            lods.append(lod)\n",
    "            loqs.append(loq)\n",
    "        \n",
    "        print(\"\\tsuccess\")"
   ]
  },
  {
   "cell_type": "markdown",
   "id": "0b30edd1",
   "metadata": {},
   "source": [
    "#### 5. Accumulate results"
   ]
  },
  {
   "cell_type": "code",
   "execution_count": null,
   "id": "64c26e60",
   "metadata": {},
   "outputs": [],
   "source": [
    "# accumluate results\n",
    "full_results = pd.DataFrame({\n",
    "    'element' : elems,\n",
    "    'filter' : fs,\n",
    "    'num_range' : ranges,\n",
    "    'n_train' : n_train,\n",
    "    'RMSECV' : rmsecvs,\n",
    "    'components' : components,\n",
    "    'RMSEC' : rmsecs,\n",
    "    'train_r2' : train_r2s,\n",
    "    'lob' : lobs,\n",
    "    'lod' : lods,\n",
    "    'loq' : loqs,\n",
    "    'n_test' : n_test,\n",
    "    'RMSEP' : rmseps,\n",
    "    'test_r2' : test_r2s\n",
    "})"
   ]
  },
  {
   "cell_type": "code",
   "execution_count": null,
   "id": "7ccf622b",
   "metadata": {},
   "outputs": [],
   "source": [
    "full_results.to_csv(\"G:\\\\My Drive\\\\Darby Work\\\\XRF fundamentals vs. MVA\\\\full_python_results.csv\",\n",
    "                    index=False)"
   ]
  },
  {
   "cell_type": "code",
   "execution_count": null,
   "id": "762ac55b",
   "metadata": {},
   "outputs": [],
   "source": [
    "full_results"
   ]
  }
 ],
 "metadata": {
  "kernelspec": {
   "display_name": "Python 3 (ipykernel)",
   "language": "python",
   "name": "python3"
  },
  "language_info": {
   "codemirror_mode": {
    "name": "ipython",
    "version": 3
   },
   "file_extension": ".py",
   "mimetype": "text/x-python",
   "name": "python",
   "nbconvert_exporter": "python",
   "pygments_lexer": "ipython3",
   "version": "3.8.8"
  }
 },
 "nbformat": 4,
 "nbformat_minor": 5
}
