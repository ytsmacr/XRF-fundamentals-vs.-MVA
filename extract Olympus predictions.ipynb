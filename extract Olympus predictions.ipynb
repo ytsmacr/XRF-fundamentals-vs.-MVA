{
 "cells": [
  {
   "cell_type": "code",
   "execution_count": 1,
   "id": "bcf0677c",
   "metadata": {},
   "outputs": [],
   "source": [
    "import pandas as pd\n",
    "import numpy as np\n",
    "\n",
    "folder = 'H:\\\\My Drive\\\\PROJECTS\\\\PSI 2022-2025\\\\XRF fundamentals vs. MVA'"
   ]
  },
  {
   "cell_type": "code",
   "execution_count": 12,
   "id": "897734a8",
   "metadata": {},
   "outputs": [],
   "source": [
    "preds = pd.read_csv('Z:\\\\data_pXRF\\\\olympus_17_bulk\\\\2018runsOlympusPredictions.csv', dtype=object)\n",
    "\n",
    "# format to get pkey to merge on\n",
    "def format_date(date):\n",
    "    d = date.split('/')\n",
    "    new_date = d[2][-2:] + d[1] + d[0]\n",
    "    return new_date\n",
    "\n",
    "preds['date'] = preds['Date'].apply(format_date)\n",
    "preds['pkey'] = preds['date'] + '_' + preds['Reading']\n",
    "\n",
    "key = pd.read_excel('Z:\\\\data_pXRF\\\\xlogbook backups\\\\xlogbook_081018.xlsx', sheet_name='Sheet1')\n",
    "key = key[['spectrum_number','notes (Olympus TestID)','pellet_name']].drop_duplicates()\n",
    "key.columns = ['spectrum_number','TestID','pellet_name']\n",
    "key = key.dropna().reset_index(drop=True)\n",
    "\n",
    "# format to get pkey to merge on\n",
    "key['date'] = key['spectrum_number'].apply(lambda x: str(x)[:6])\n",
    "key['pkey'] = key['date'] + '_' + key['TestID']\n",
    "\n",
    "df = key.merge(preds, how='left', on='pkey')\n",
    "\n",
    "# filter for relevant data\n",
    "cols = ['spectrum_number', 'TestID', 'pellet_name','pkey','Mg', 'Mg +/-', 'Al', 'Al +/-', \n",
    "'Si', 'Si +/-', 'P', 'P +/-', 'S', 'S +/-', 'Cl', 'Cl +/-', 'Ca', 'Ca +/-', 'Ti',\n",
    " 'Ti +/-', 'V', 'V +/-', 'Cr', 'Cr +/-', 'Mn', 'Mn +/-', 'Fe', 'Fe +/-',\n",
    " 'Co', 'Co +/-', 'Ni', 'Ni +/-', 'Cu', 'Cu +/-', 'Zn', 'Zn +/-', 'As',\n",
    " 'As +/-', 'Se', 'Se +/-', 'Rb', 'Rb +/-', 'Sr', 'Sr +/-', 'Y', 'Y +/-',\n",
    " 'Zr', 'Zr +/-', 'Nb', 'Nb +/-', 'Mo', 'Mo +/-', 'Ag', 'Ag +/-', 'Cd',\n",
    " 'Cd +/-', 'Sn', 'Sn +/-', 'Sb', 'Sb +/-', 'Ta', 'Ta +/-', 'W', 'W +/-',\n",
    " 'Hg', 'Hg +/-', 'Pb', 'Pb +/-', 'Bi', 'Bi +/-', 'Th', 'Th +/-', 'U', 'U +/-']\n",
    "df = df[cols]\n",
    "# export\n",
    "df.to_csv('Z:\\\\data_pXRF\\\\Olympus_instrument_predictions.csv', index=False)\n",
    "\n",
    "pred_df = df.drop(columns='spectrum_number').drop_duplicates(ignore_index=True)\n",
    "# will probably have to add this later - might be those below their LOD/Q\n",
    "pred_df = pred_df.replace('ND',np.nan)\n",
    "# convert to float\n",
    "pred_df[cols[4:]] = pred_df[cols[4:]].astype(float)"
   ]
  },
  {
   "cell_type": "markdown",
   "id": "5f921ed6",
   "metadata": {},
   "source": [
    "### format predictions\n",
    "All in units of wt% element"
   ]
  },
  {
   "cell_type": "code",
   "execution_count": 14,
   "id": "ef312e93",
   "metadata": {},
   "outputs": [
    {
     "name": "stderr",
     "output_type": "stream",
     "text": [
      "C:\\Users\\ytsma22c\\AppData\\Local\\Continuum\\xraylarch\\envs\\auto\\lib\\site-packages\\pandas\\core\\frame.py:4901: SettingWithCopyWarning: \n",
      "A value is trying to be set on a copy of a slice from a DataFrame\n",
      "\n",
      "See the caveats in the documentation: https://pandas.pydata.org/pandas-docs/stable/user_guide/indexing.html#returning-a-view-versus-a-copy\n",
      "  return super().drop(\n"
     ]
    }
   ],
   "source": [
    "# elements to oxides\n",
    "ox = ['SiO2','TiO2','Al2O3','Fe2O3','MgO','MnO','CaO','P2O5','SO3']\n",
    "conv = pd.read_csv(folder+'\\\\misc\\\\element_oxide_conversion.csv')\n",
    "ox_el_key = dict(zip(conv.oxide, conv.element))\n",
    "el_conv_key = dict(zip(conv.element, conv.conversion))\n",
    "\n",
    "for m in ox:\n",
    "    elem = ox_el_key[m]\n",
    "    factor = el_conv_key[elem]\n",
    "    \n",
    "    pred_df[m+' (wt%)'] = pred_df[elem]*factor\n",
    "    pred_df[m+' (wt%) +/-'] = pred_df[elem+' +/-']*factor\n",
    "    \n",
    "    pred_df.drop(columns=[elem, elem+' +/-'], inplace=True)\n",
    "    \n",
    "# trace elements to ppm\n",
    "el = ['As','Bi','Cr','Cu','Mo','Nb','Ni','Pb','Rb','Sn','Sr','Ta','Th','U','V','W','Y','Zn','Zr']\n",
    "for e in el:  \n",
    "    pred_df[e+' (ppm)'] = pred_df[e]*10000\n",
    "    pred_df[e+' (ppm) +/-'] = pred_df[e+' +/-']*10000\n",
    "    \n",
    "    pred_df.drop(columns=[e, e+' +/-'], inplace=True)\n",
    "    \n",
    "# sort columns\n",
    "to_sort = list(pred_df.columns[3:])\n",
    "to_sort.sort()\n",
    "pred_df = pred_df[list(pred_df.columns[:3])+to_sort]\n",
    "\n",
    "# remove elements not being used\n",
    "to_drop = [x for x in pred_df.columns[3:] if '(' not in x]\n",
    "pred_df.drop(columns=to_drop, inplace=True)\n",
    "\n",
    "# export\n",
    "pred_df.to_csv(folder+'\\\\data\\\\instrument_predictions.csv', index=False)"
   ]
  },
  {
   "cell_type": "code",
   "execution_count": 8,
   "id": "28cb8495",
   "metadata": {},
   "outputs": [],
   "source": []
  }
 ],
 "metadata": {
  "kernelspec": {
   "display_name": "Python 3 (ipykernel)",
   "language": "python",
   "name": "python3"
  },
  "language_info": {
   "codemirror_mode": {
    "name": "ipython",
    "version": 3
   },
   "file_extension": ".py",
   "mimetype": "text/x-python",
   "name": "python",
   "nbconvert_exporter": "python",
   "pygments_lexer": "ipython3",
   "version": "3.8.13"
  }
 },
 "nbformat": 4,
 "nbformat_minor": 5
}
