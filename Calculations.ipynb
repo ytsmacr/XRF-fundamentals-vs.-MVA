{
 "cells": [
  {
   "cell_type": "code",
   "execution_count": 1,
   "id": "c9e78671",
   "metadata": {},
   "outputs": [
    {
     "name": "stdout",
     "output_type": "stream",
     "text": [
      "pandas version 1.3.2\n"
     ]
    }
   ],
   "source": [
    "import os\n",
    "import pandas as pd\n",
    "from tqdm.notebook import tqdm\n",
    "from sklearn.metrics import r2_score\n",
    "\n",
    "# get version\n",
    "print(\"pandas version\",pd.__version__)\n",
    "\n",
    "fp = \"G:\\\\My Drive\\\\Darby Work\\\\XRF fundamentals vs. MVA\\\\\""
   ]
  },
  {
   "cell_type": "code",
   "execution_count": 2,
   "id": "befd5b6f",
   "metadata": {},
   "outputs": [],
   "source": [
    "spectra_path = \"Z:\\\\data_pXRF\\\\MHC_Olympus_spectra.csv\"\n",
    "spectra = pd.read_csv(spectra_path)\n",
    "\n",
    "metadata_path = \"Z:\\\\data_pXRF\\\\MHC_Olympus_metadata.csv\"\n",
    "metadata = pd.read_csv(metadata_path)\n",
    "comps = metadata.drop(metadata.columns[1:8], axis=1)\n",
    "comps.columns = comps.columns.map(lambda x: x.split()[0])"
   ]
  },
  {
   "cell_type": "code",
   "execution_count": 3,
   "id": "001c0872",
   "metadata": {},
   "outputs": [],
   "source": [
    "# select samples with olympus predictions\n",
    "pred_samples = list(metadata[\n",
    "    metadata['Olympus-Predicted'] == 'yes'\n",
    "]['pkey'])\n",
    "\n",
    "# add wave column\n",
    "pred_samples.insert(0, 'wave')\n",
    "\n",
    "\n",
    "pred_spectra = spectra.filter(\n",
    "    items = pred_samples\n",
    ")"
   ]
  },
  {
   "cell_type": "code",
   "execution_count": 4,
   "id": "64c26e60",
   "metadata": {},
   "outputs": [],
   "source": [
    "o1_spectra = pred_spectra.filter(regex=('(_1$)|(wave)'), axis=1)\n",
    "o2_spectra = pred_spectra.filter(regex=('(_2$)|(wave)'), axis=1)"
   ]
  },
  {
   "cell_type": "markdown",
   "id": "de724041",
   "metadata": {},
   "source": [
    "## Sensitivity"
   ]
  },
  {
   "cell_type": "code",
   "execution_count": 5,
   "id": "48482b59",
   "metadata": {},
   "outputs": [],
   "source": [
    "noise_path = fp+\"Braga noise regions.csv\"\n",
    "noise = pd.read_csv(noise_path)"
   ]
  },
  {
   "cell_type": "code",
   "execution_count": 6,
   "id": "950cc979",
   "metadata": {},
   "outputs": [
    {
     "name": "stdout",
     "output_type": "stream",
     "text": [
      "Datasets cleaned:\n"
     ]
    },
    {
     "data": {
      "application/vnd.jupyter.widget-view+json": {
       "model_id": "a701c3f945b24018bf022cf8c0e7027e",
       "version_major": 2,
       "version_minor": 0
      },
      "text/plain": [
       "  0%|          | 0/2 [00:00<?, ?it/s]"
      ]
     },
     "metadata": {},
     "output_type": "display_data"
    },
    {
     "name": "stdout",
     "output_type": "stream",
     "text": [
      "Rows cleaned:\n"
     ]
    },
    {
     "data": {
      "application/vnd.jupyter.widget-view+json": {
       "model_id": "3d2df8e40c0244fd82ed3b07aa2510f1",
       "version_major": 2,
       "version_minor": 0
      },
      "text/plain": [
       "  0%|          | 0/2042 [00:00<?, ?it/s]"
      ]
     },
     "metadata": {},
     "output_type": "display_data"
    },
    {
     "name": "stderr",
     "output_type": "stream",
     "text": [
      "C:\\Users\\ytsma22c\\Anaconda3\\lib\\site-packages\\pandas\\core\\frame.py:4901: SettingWithCopyWarning: \n",
      "A value is trying to be set on a copy of a slice from a DataFrame\n",
      "\n",
      "See the caveats in the documentation: https://pandas.pydata.org/pandas-docs/stable/user_guide/indexing.html#returning-a-view-versus-a-copy\n",
      "  return super().drop(\n"
     ]
    },
    {
     "name": "stdout",
     "output_type": "stream",
     "text": [
      "Rows cleaned:\n"
     ]
    },
    {
     "data": {
      "application/vnd.jupyter.widget-view+json": {
       "model_id": "09d14338a07b430bab0c6011e8468237",
       "version_major": 2,
       "version_minor": 0
      },
      "text/plain": [
       "  0%|          | 0/2042 [00:00<?, ?it/s]"
      ]
     },
     "metadata": {},
     "output_type": "display_data"
    }
   ],
   "source": [
    "print(\"Datasets cleaned:\")\n",
    "count = 0\n",
    "for df in tqdm([o1_spectra, o2_spectra]):\n",
    "   \n",
    "    if count == 0:\n",
    "        noise_temp = noise[noise['Filter'] == 1].reset_index(drop=True)\n",
    "    else: noise_temp = noise[noise['Filter'] == 2].reset_index(drop=True)\n",
    "    count += 1\n",
    "        \n",
    "    print(\"Rows cleaned:\") \n",
    "    for row in tqdm(df.index):\n",
    "        nm = df['wave'][row]\n",
    "        # remove rows below first region\n",
    "        if nm < noise_temp['Start'][0]:\n",
    "            df.drop(row, axis = 'index', inplace=True)\n",
    "        # remove rows after last region\n",
    "        elif nm > noise_temp['Stop'][len(noise_temp)-1]:\n",
    "            df.drop(row, axis = 'index', inplace=True)\n",
    "        # remove rows between the regions\n",
    "        for region in range(len(noise_temp)-1):\n",
    "            if (nm > noise_temp['Stop'][region]) & (nm < noise_temp['Start'][region+1]):\n",
    "                df.drop(row, axis = 'index', inplace=True)"
   ]
  },
  {
   "cell_type": "code",
   "execution_count": 7,
   "id": "a2cb4841",
   "metadata": {},
   "outputs": [],
   "source": [
    "o1_sens = round(o1_spectra.set_index('wave').std(axis=1).mean(),3)\n",
    "o2_sens = round(o2_spectra.set_index('wave').std(axis=1).mean(),3)"
   ]
  },
  {
   "cell_type": "code",
   "execution_count": 8,
   "id": "6be0ad0a",
   "metadata": {},
   "outputs": [
    {
     "name": "stdout",
     "output_type": "stream",
     "text": [
      "Filter 1 sensitivity: 261.024 \n",
      "Filter 2 sensitivity: 159.383\n"
     ]
    }
   ],
   "source": [
    "print(\"Filter 1 sensitivity:\", o1_sens, \n",
    "      \"\\nFilter 2 sensitivity:\",o2_sens)"
   ]
  },
  {
   "cell_type": "markdown",
   "id": "56705635",
   "metadata": {},
   "source": [
    "### Function to calculate LBDQs from model and instrument sensitivity"
   ]
  },
  {
   "cell_type": "code",
   "execution_count": 16,
   "id": "e4430a04",
   "metadata": {},
   "outputs": [],
   "source": [
    "def get_lbdq(folder, file_list):\n",
    "     \n",
    "    print(\"LBDQ:\")\n",
    "    \n",
    "    coeffs = []\n",
    "    elem_list = []\n",
    "    filt_list = []\n",
    "    lob_list = []\n",
    "    lod_list = []\n",
    "    loq_list = []\n",
    "    \n",
    "    for filter_n in ['O1', 'O2']:\n",
    "        \n",
    "        # get sensitivity value\n",
    "        sensitivity = o1_sens if filter_n == 'O1' else o2_sens\n",
    "    \n",
    "        ftype = filter_n + \"_coeff\"\n",
    "\n",
    "        # read models\n",
    "        for file in tqdm(file_list):\n",
    "            if ftype in file:       \n",
    "                path = folder + file\n",
    "                data = pd.read_csv(path, skiprows = [0])\n",
    "\n",
    "                # convert to dataframe\n",
    "                data = data.T\n",
    "\n",
    "                # adapt to different element naming b/w datasets\n",
    "                data.columns = data.iloc[0].map(lambda x: x.split()[0])\n",
    "                data = data.drop(data.index[0])\n",
    "                element = data.columns[0]\n",
    "\n",
    "                # populate lists\n",
    "                elem_list.append(element)\n",
    "                filt_list.append(filter_n)\n",
    "\n",
    "                # calculate regression vectors\n",
    "                vector = pow(data, 2).sum().pow(.5)  #square root of sum of squares\n",
    "                \n",
    "                # calculate values\n",
    "                factors = {\n",
    "                    'LOB' : 1.645,\n",
    "                    'LOD' : 3.3,\n",
    "                    'LOQ' : 10\n",
    "                }\n",
    "\n",
    "                lob_list.append(factors['LOB'] * sensitivity * vector[0])\n",
    "                lod_list.append(factors['LOD'] * sensitivity * vector[0])\n",
    "                loq_list.append(factors['LOQ'] * sensitivity * vector[0])\n",
    "\n",
    "    # make dataframe\n",
    "    df = pd.DataFrame({\n",
    "        'element' : elem_list,\n",
    "        'filter' : filt_list,\n",
    "        'LOB' : lob_list,\n",
    "        'LOD' : lod_list,\n",
    "        'LOQ' : loq_list\n",
    "    })\n",
    "    \n",
    "    # change col formats\n",
    "    cols = df.columns.drop(['element', 'filter'])\n",
    "    df[cols] = df[cols].apply(pd.to_numeric)\n",
    "    \n",
    "    return df"
   ]
  },
  {
   "cell_type": "markdown",
   "id": "aa5b966f",
   "metadata": {},
   "source": [
    "### Function to calculate RMSEPs"
   ]
  },
  {
   "cell_type": "code",
   "execution_count": 18,
   "id": "57b80c16",
   "metadata": {},
   "outputs": [],
   "source": [
    "majors = ['Al2O3', 'CaO', 'Fe2O3', 'MgO', 'MnO', 'P2O5', 'SiO2', 'TiO2']\n",
    "\n",
    "def get_rmsep(folder, file_list, lbdq):\n",
    "    \n",
    "    print(\"RMSEP:\")\n",
    "    \n",
    "    elem_list = []\n",
    "    filt_list = []\n",
    "    avg_list = []\n",
    "    rmsep_list = []\n",
    "    r2_list = []\n",
    "    \n",
    "    for filter_n in ['O1', 'O2']:\n",
    "    \n",
    "        ftype = filter_n + \"_test\"\n",
    "\n",
    "        for file in tqdm(file_list):\n",
    "            if ftype in file:       \n",
    "                path = (folder + file)\n",
    "                data = pd.read_csv(path)\n",
    "\n",
    "                # get element\n",
    "                element = data.columns[1].split()[0]\n",
    "                elem_list.append(element)\n",
    "                filt_list.append(filter_n)\n",
    "\n",
    "                # format columns\n",
    "                data.columns = ['pkey', 'Actual', 'Pred']\n",
    "                data = data.drop([0])\n",
    "                data.Pred = data.Pred.astype(float)  \n",
    "\n",
    "                # remove predictions above 100 for majors\n",
    "                if element in majors:\n",
    "                    data = data[data.Pred < 100]\n",
    "\n",
    "                # remove all predictions below 0\n",
    "                data = data[data.Pred > 0].reset_index(drop=True).sort_index(axis=1)\n",
    "\n",
    "                # order columns\n",
    "                data = data[['pkey', 'Actual', 'Pred']].drop_duplicates(subset = 'pkey').sort_values(by='pkey').reset_index(drop=True)\n",
    "\n",
    "                # subselect relevant reference values\n",
    "                ref = lbdq[(lbdq['element'].astype(str) == element) &\n",
    "                           (lbdq['filter'].astype(str) == filter_n)].reset_index(drop=True)\n",
    "\n",
    "                # add in Actual concentrations\n",
    "                temp_comps = comps[comps.pkey.isin(data.pkey)].reset_index(drop=True)                   \n",
    "                data['Actual'] = temp_comps[temp_comps['pkey'] == data['pkey']][element]\n",
    "\n",
    "                # remove NaN Actual values....which idk why they'd be there\n",
    "                data = data.dropna()\n",
    "\n",
    "                # calculate values\n",
    "                loq = ref['LOQ'].iloc[0]\n",
    "                # select just predictions above the LOQ\n",
    "                data = data[data.Pred > loq].reset_index(drop=True)\n",
    "                # get average concentration\n",
    "                avg = data['Actual'].mean()\n",
    "                avg_list.append(avg)\n",
    "                # get R2\n",
    "                if len(data) > 1:\n",
    "                    r2 = r2_score(data.Actual, data.Pred)\n",
    "                    r2_list.append(r2)\n",
    "                else: r2_list.append('Not enough test samples above LOQ')\n",
    "                # get RMSE-P\n",
    "                data['sqerror'] = (data.Actual - data.Pred).pow(2)\n",
    "                rmsep = data['sqerror'].mean() ** 0.5\n",
    "                rmsep_list.append(rmsep)\n",
    "\n",
    "    \n",
    "    df = pd.DataFrame({\n",
    "        \"element\" : elem_list,\n",
    "        \"filter\" : filt_list,\n",
    "        \"avg_comp\" : avg_list,\n",
    "        \"RMSEP\" : rmsep_list,\n",
    "        \"R2\" : r2_list,\n",
    "    })\n",
    "    \n",
    "    \n",
    "    return df"
   ]
  },
  {
   "cell_type": "code",
   "execution_count": 19,
   "id": "2f1bb8ee",
   "metadata": {},
   "outputs": [],
   "source": [
    "def get_results(regression, n_range):\n",
    "    \n",
    "    print('Calculating for', regression, n_range)\n",
    "\n",
    "    folder = fp+\"\\\\models\\\\\"+regression+\"\\\\\"+n_range+\"\\\\\"\n",
    "    file_list = os.listdir(folder)\n",
    "    if len(file_list) == 0:\n",
    "        print(\"\\tNo files\")\n",
    "        return\n",
    "\n",
    "    # calculate lbdq\n",
    "    lbdq = get_lbdq(folder, file_list)\n",
    "    # calculate rmsep with lbdq results\n",
    "    rmsep = get_rmsep(folder, file_list, lbdq)\n",
    "    # merge results\n",
    "    df = pd.merge(lbdq, rmsep, how='outer', on=['element', 'filter'])\n",
    "    df.insert(loc=2, column='num_range', value=n_range)\n",
    "    df.insert(loc=2, column='regression', value=regression)\n",
    "    # return full results\n",
    "    return df "
   ]
  },
  {
   "cell_type": "code",
   "execution_count": 20,
   "id": "8db62ed8",
   "metadata": {},
   "outputs": [
    {
     "name": "stdout",
     "output_type": "stream",
     "text": [
      "Calculating for PLS 0-750\n",
      "\tNo files\n",
      "Calculating for PLS 250-1000\n",
      "\tNo files\n",
      "Calculating for PLS all\n",
      "\tNo files\n",
      "Calculating for lasso 0-750\n",
      "LBDQ:\n"
     ]
    },
    {
     "data": {
      "application/vnd.jupyter.widget-view+json": {
       "model_id": "5fac8465df14442a8b9d6fa1c3237485",
       "version_major": 2,
       "version_minor": 0
      },
      "text/plain": [
       "  0%|          | 0/240 [00:00<?, ?it/s]"
      ]
     },
     "metadata": {},
     "output_type": "display_data"
    },
    {
     "data": {
      "application/vnd.jupyter.widget-view+json": {
       "model_id": "406932b28ccb45b5b7a0a7ebccb02863",
       "version_major": 2,
       "version_minor": 0
      },
      "text/plain": [
       "  0%|          | 0/240 [00:00<?, ?it/s]"
      ]
     },
     "metadata": {},
     "output_type": "display_data"
    },
    {
     "name": "stdout",
     "output_type": "stream",
     "text": [
      "RMSEP:\n"
     ]
    },
    {
     "data": {
      "application/vnd.jupyter.widget-view+json": {
       "model_id": "77026d83d0184ebfac675dacbb2bedfd",
       "version_major": 2,
       "version_minor": 0
      },
      "text/plain": [
       "  0%|          | 0/240 [00:00<?, ?it/s]"
      ]
     },
     "metadata": {},
     "output_type": "display_data"
    },
    {
     "data": {
      "application/vnd.jupyter.widget-view+json": {
       "model_id": "587006962f2c4981946f5562a218e204",
       "version_major": 2,
       "version_minor": 0
      },
      "text/plain": [
       "  0%|          | 0/240 [00:00<?, ?it/s]"
      ]
     },
     "metadata": {},
     "output_type": "display_data"
    },
    {
     "name": "stdout",
     "output_type": "stream",
     "text": [
      "Calculating for lasso 250-1000\n",
      "\tNo files\n",
      "Calculating for lasso all\n",
      "LBDQ:\n"
     ]
    },
    {
     "data": {
      "application/vnd.jupyter.widget-view+json": {
       "model_id": "54fad274590e440ca4d39076875233ef",
       "version_major": 2,
       "version_minor": 0
      },
      "text/plain": [
       "  0%|          | 0/177 [00:00<?, ?it/s]"
      ]
     },
     "metadata": {},
     "output_type": "display_data"
    },
    {
     "data": {
      "application/vnd.jupyter.widget-view+json": {
       "model_id": "3068f3da4b844c9fbc8ec2d12b775513",
       "version_major": 2,
       "version_minor": 0
      },
      "text/plain": [
       "  0%|          | 0/177 [00:00<?, ?it/s]"
      ]
     },
     "metadata": {},
     "output_type": "display_data"
    },
    {
     "name": "stdout",
     "output_type": "stream",
     "text": [
      "RMSEP:\n"
     ]
    },
    {
     "data": {
      "application/vnd.jupyter.widget-view+json": {
       "model_id": "a5c7f84857164a569b824f5e3fd87af0",
       "version_major": 2,
       "version_minor": 0
      },
      "text/plain": [
       "  0%|          | 0/177 [00:00<?, ?it/s]"
      ]
     },
     "metadata": {},
     "output_type": "display_data"
    },
    {
     "data": {
      "application/vnd.jupyter.widget-view+json": {
       "model_id": "728c3b90acc54ff1a851ee948e719ed1",
       "version_major": 2,
       "version_minor": 0
      },
      "text/plain": [
       "  0%|          | 0/177 [00:00<?, ?it/s]"
      ]
     },
     "metadata": {},
     "output_type": "display_data"
    },
    {
     "data": {
      "text/html": [
       "<div>\n",
       "<style scoped>\n",
       "    .dataframe tbody tr th:only-of-type {\n",
       "        vertical-align: middle;\n",
       "    }\n",
       "\n",
       "    .dataframe tbody tr th {\n",
       "        vertical-align: top;\n",
       "    }\n",
       "\n",
       "    .dataframe thead th {\n",
       "        text-align: right;\n",
       "    }\n",
       "</style>\n",
       "<table border=\"1\" class=\"dataframe\">\n",
       "  <thead>\n",
       "    <tr style=\"text-align: right;\">\n",
       "      <th></th>\n",
       "      <th>element</th>\n",
       "      <th>filter</th>\n",
       "      <th>regression</th>\n",
       "      <th>num_range</th>\n",
       "      <th>LOB</th>\n",
       "      <th>LOD</th>\n",
       "      <th>LOQ</th>\n",
       "      <th>avg_comp</th>\n",
       "      <th>RMSEP</th>\n",
       "      <th>R2</th>\n",
       "    </tr>\n",
       "  </thead>\n",
       "  <tbody>\n",
       "    <tr>\n",
       "      <th>0</th>\n",
       "      <td>Al2O3</td>\n",
       "      <td>O1</td>\n",
       "      <td>lasso</td>\n",
       "      <td>0-750</td>\n",
       "      <td>13.094738</td>\n",
       "      <td>26.269079</td>\n",
       "      <td>79.603270</td>\n",
       "      <td>NaN</td>\n",
       "      <td>NaN</td>\n",
       "      <td>Not enough test samples above LOQ</td>\n",
       "    </tr>\n",
       "    <tr>\n",
       "      <th>1</th>\n",
       "      <td>CaO</td>\n",
       "      <td>O1</td>\n",
       "      <td>lasso</td>\n",
       "      <td>0-750</td>\n",
       "      <td>0.666077</td>\n",
       "      <td>1.336204</td>\n",
       "      <td>4.049102</td>\n",
       "      <td>9.454688</td>\n",
       "      <td>3.291960</td>\n",
       "      <td>-0.316842</td>\n",
       "    </tr>\n",
       "    <tr>\n",
       "      <th>2</th>\n",
       "      <td>Fe2O3</td>\n",
       "      <td>O1</td>\n",
       "      <td>lasso</td>\n",
       "      <td>0-750</td>\n",
       "      <td>2.308474</td>\n",
       "      <td>4.630982</td>\n",
       "      <td>14.033278</td>\n",
       "      <td>15.456818</td>\n",
       "      <td>1.092613</td>\n",
       "      <td>-0.19006</td>\n",
       "    </tr>\n",
       "    <tr>\n",
       "      <th>3</th>\n",
       "      <td>MgO</td>\n",
       "      <td>O1</td>\n",
       "      <td>lasso</td>\n",
       "      <td>0-750</td>\n",
       "      <td>4.349767</td>\n",
       "      <td>8.725976</td>\n",
       "      <td>26.442351</td>\n",
       "      <td>30.976400</td>\n",
       "      <td>2.422160</td>\n",
       "      <td>-1.696022</td>\n",
       "    </tr>\n",
       "    <tr>\n",
       "      <th>4</th>\n",
       "      <td>MnO</td>\n",
       "      <td>O1</td>\n",
       "      <td>lasso</td>\n",
       "      <td>0-750</td>\n",
       "      <td>0.059618</td>\n",
       "      <td>0.119599</td>\n",
       "      <td>0.362420</td>\n",
       "      <td>1.556667</td>\n",
       "      <td>1.040181</td>\n",
       "      <td>0.707981</td>\n",
       "    </tr>\n",
       "    <tr>\n",
       "      <th>...</th>\n",
       "      <td>...</td>\n",
       "      <td>...</td>\n",
       "      <td>...</td>\n",
       "      <td>...</td>\n",
       "      <td>...</td>\n",
       "      <td>...</td>\n",
       "      <td>...</td>\n",
       "      <td>...</td>\n",
       "      <td>...</td>\n",
       "      <td>...</td>\n",
       "    </tr>\n",
       "    <tr>\n",
       "      <th>114</th>\n",
       "      <td>V</td>\n",
       "      <td>O2</td>\n",
       "      <td>lasso</td>\n",
       "      <td>all</td>\n",
       "      <td>23.505945</td>\n",
       "      <td>47.154783</td>\n",
       "      <td>142.893281</td>\n",
       "      <td>NaN</td>\n",
       "      <td>NaN</td>\n",
       "      <td>NaN</td>\n",
       "    </tr>\n",
       "    <tr>\n",
       "      <th>115</th>\n",
       "      <td>W</td>\n",
       "      <td>O2</td>\n",
       "      <td>lasso</td>\n",
       "      <td>all</td>\n",
       "      <td>1.319354</td>\n",
       "      <td>2.646728</td>\n",
       "      <td>8.020389</td>\n",
       "      <td>NaN</td>\n",
       "      <td>NaN</td>\n",
       "      <td>NaN</td>\n",
       "    </tr>\n",
       "    <tr>\n",
       "      <th>116</th>\n",
       "      <td>Y</td>\n",
       "      <td>O2</td>\n",
       "      <td>lasso</td>\n",
       "      <td>all</td>\n",
       "      <td>0.972068</td>\n",
       "      <td>1.950045</td>\n",
       "      <td>5.909227</td>\n",
       "      <td>NaN</td>\n",
       "      <td>NaN</td>\n",
       "      <td>NaN</td>\n",
       "    </tr>\n",
       "    <tr>\n",
       "      <th>117</th>\n",
       "      <td>Zn</td>\n",
       "      <td>O2</td>\n",
       "      <td>lasso</td>\n",
       "      <td>all</td>\n",
       "      <td>6.648001</td>\n",
       "      <td>13.336415</td>\n",
       "      <td>40.413379</td>\n",
       "      <td>NaN</td>\n",
       "      <td>NaN</td>\n",
       "      <td>NaN</td>\n",
       "    </tr>\n",
       "    <tr>\n",
       "      <th>118</th>\n",
       "      <td>U</td>\n",
       "      <td>O2</td>\n",
       "      <td>lasso</td>\n",
       "      <td>all</td>\n",
       "      <td>0.317572</td>\n",
       "      <td>0.637074</td>\n",
       "      <td>1.930527</td>\n",
       "      <td>NaN</td>\n",
       "      <td>NaN</td>\n",
       "      <td>NaN</td>\n",
       "    </tr>\n",
       "  </tbody>\n",
       "</table>\n",
       "<p>119 rows × 10 columns</p>\n",
       "</div>"
      ],
      "text/plain": [
       "    element filter regression num_range        LOB        LOD         LOQ  \\\n",
       "0     Al2O3     O1      lasso     0-750  13.094738  26.269079   79.603270   \n",
       "1       CaO     O1      lasso     0-750   0.666077   1.336204    4.049102   \n",
       "2     Fe2O3     O1      lasso     0-750   2.308474   4.630982   14.033278   \n",
       "3       MgO     O1      lasso     0-750   4.349767   8.725976   26.442351   \n",
       "4       MnO     O1      lasso     0-750   0.059618   0.119599    0.362420   \n",
       "..      ...    ...        ...       ...        ...        ...         ...   \n",
       "114       V     O2      lasso       all  23.505945  47.154783  142.893281   \n",
       "115       W     O2      lasso       all   1.319354   2.646728    8.020389   \n",
       "116       Y     O2      lasso       all   0.972068   1.950045    5.909227   \n",
       "117      Zn     O2      lasso       all   6.648001  13.336415   40.413379   \n",
       "118       U     O2      lasso       all   0.317572   0.637074    1.930527   \n",
       "\n",
       "      avg_comp     RMSEP                                 R2  \n",
       "0          NaN       NaN  Not enough test samples above LOQ  \n",
       "1     9.454688  3.291960                          -0.316842  \n",
       "2    15.456818  1.092613                           -0.19006  \n",
       "3    30.976400  2.422160                          -1.696022  \n",
       "4     1.556667  1.040181                           0.707981  \n",
       "..         ...       ...                                ...  \n",
       "114        NaN       NaN                                NaN  \n",
       "115        NaN       NaN                                NaN  \n",
       "116        NaN       NaN                                NaN  \n",
       "117        NaN       NaN                                NaN  \n",
       "118        NaN       NaN                                NaN  \n",
       "\n",
       "[119 rows x 10 columns]"
      ]
     },
     "execution_count": 20,
     "metadata": {},
     "output_type": "execute_result"
    }
   ],
   "source": [
    "# get results for all data\n",
    "full_table = pd.DataFrame()\n",
    "\n",
    "regressions = ['PLS', 'lasso']\n",
    "regions = ['0-750', '250-1000', 'all']\n",
    "\n",
    "for regression in regressions:\n",
    "    for region in regions:\n",
    "        results = get_results(regression, region)\n",
    "        full_table = pd.concat([full_table, results], ignore_index=True)\n",
    "        \n",
    "full_table.reindex(columns=['element',\n",
    "                            'filter',\n",
    "                            'regression',\n",
    "                            'num_range',\n",
    "                            'avg_comp',\n",
    "                            'LOB',\n",
    "                            'LOD',\n",
    "                            'LOQ',\n",
    "                            'RMSEP',\n",
    "                            'R2'])\n",
    "\n",
    "full_table"
   ]
  },
  {
   "cell_type": "markdown",
   "id": "a811f19f",
   "metadata": {},
   "source": [
    "#### Export"
   ]
  },
  {
   "cell_type": "code",
   "execution_count": 21,
   "id": "71021a82",
   "metadata": {},
   "outputs": [],
   "source": [
    "full_epath = fp + \"full_results_table.csv\"\n",
    "full_table.to_csv(full_epath, index=False)"
   ]
  }
 ],
 "metadata": {
  "kernelspec": {
   "display_name": "Python 3 (ipykernel)",
   "language": "python",
   "name": "python3"
  },
  "language_info": {
   "codemirror_mode": {
    "name": "ipython",
    "version": 3
   },
   "file_extension": ".py",
   "mimetype": "text/x-python",
   "name": "python",
   "nbconvert_exporter": "python",
   "pygments_lexer": "ipython3",
   "version": "3.8.8"
  }
 },
 "nbformat": 4,
 "nbformat_minor": 5
}
