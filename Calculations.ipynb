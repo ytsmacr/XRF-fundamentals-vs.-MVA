{
 "cells": [
  {
   "cell_type": "code",
   "execution_count": 1,
   "id": "c9e78671",
   "metadata": {},
   "outputs": [
    {
     "name": "stdout",
     "output_type": "stream",
     "text": [
      "pandas version 1.3.2\n"
     ]
    }
   ],
   "source": [
    "import os\n",
    "import pandas as pd\n",
    "from tqdm.notebook import tqdm\n",
    "from sklearn.metrics import r2_score\n",
    "\n",
    "# get version\n",
    "print(\"pandas version\",pd.__version__)\n",
    "\n",
    "fp = \"G:\\\\My Drive\\\\Darby Work\\\\XRF fundamentals vs. MVA\\\\\""
   ]
  },
  {
   "cell_type": "markdown",
   "id": "fc548375",
   "metadata": {},
   "source": [
    "#### Spectra & metadata"
   ]
  },
  {
   "cell_type": "code",
   "execution_count": 2,
   "id": "befd5b6f",
   "metadata": {},
   "outputs": [],
   "source": [
    "spectra_path = \"Z:\\\\data_pXRF\\\\MHC_Olympus_spectra.csv\"\n",
    "spectra = pd.read_csv(spectra_path)\n",
    "\n",
    "metadata_path = \"Z:\\\\data_pXRF\\\\MHC_Olympus_metadata.csv\"\n",
    "metadata = pd.read_csv(metadata_path)\n",
    "comps = metadata.drop(metadata.columns[1:8], axis=1)\n",
    "comps.columns = comps.columns.map(lambda x: x.split()[0])"
   ]
  },
  {
   "cell_type": "code",
   "execution_count": 3,
   "id": "001c0872",
   "metadata": {},
   "outputs": [],
   "source": [
    "# select samples with olympus predictions\n",
    "pred_samples = list(metadata[\n",
    "    metadata['Olympus-Predicted'] == 'yes'\n",
    "]['pkey'])\n",
    "\n",
    "# add wave column\n",
    "pred_samples.insert(0, 'wave')\n",
    "\n",
    "\n",
    "pred_spectra = spectra.filter(\n",
    "    items = pred_samples\n",
    ")"
   ]
  },
  {
   "cell_type": "code",
   "execution_count": 4,
   "id": "64c26e60",
   "metadata": {},
   "outputs": [],
   "source": [
    "o1_spectra = pred_spectra.filter(regex=('(_1$)|(wave)'), axis=1)\n",
    "o2_spectra = pred_spectra.filter(regex=('(_2$)|(wave)'), axis=1)"
   ]
  },
  {
   "cell_type": "markdown",
   "id": "de724041",
   "metadata": {},
   "source": [
    "#### Sensitivity"
   ]
  },
  {
   "cell_type": "code",
   "execution_count": 6,
   "id": "a2cb4841",
   "metadata": {},
   "outputs": [],
   "source": [
    "sens = pd.read_csv(fp+'sensitivities.csv')"
   ]
  },
  {
   "cell_type": "code",
   "execution_count": 8,
   "id": "bdd23fa0",
   "metadata": {},
   "outputs": [],
   "source": [
    "# using median for filter 1, mean for filter 2\n",
    "o1_sens = sens[sens['filter']==1]['median_sens'].iloc[0]\n",
    "o2_sens = sens[sens['filter']==2]['mean_sens'].iloc[0]"
   ]
  },
  {
   "cell_type": "markdown",
   "id": "56705635",
   "metadata": {},
   "source": [
    "#### Calculate LBDQs from model and instrument sensitivity"
   ]
  },
  {
   "cell_type": "code",
   "execution_count": 24,
   "id": "e4430a04",
   "metadata": {},
   "outputs": [],
   "source": [
    "def get_lbdq(folder, file_list):\n",
    "     \n",
    "    print(\"LBDQ:\")\n",
    "    \n",
    "    coeffs = []\n",
    "    elem_list = []\n",
    "    filt_list = []\n",
    "    lob_list = []\n",
    "    lod_list = []\n",
    "    loq_list = []\n",
    "    \n",
    "    for filter_n in ['O1', 'O2']:\n",
    "        \n",
    "        # get sensitivity value\n",
    "        sensitivity = o1_sens if filter_n == 'O1' else o2_sens\n",
    "    \n",
    "        ftype = filter_n + \"_coeff\"\n",
    "\n",
    "        # read models\n",
    "        for file in tqdm(file_list):\n",
    "            if ftype in file:       \n",
    "                path = folder + file\n",
    "                data = pd.read_csv(path, skiprows = [0])\n",
    "\n",
    "                # convert to dataframe\n",
    "                data = data.T\n",
    "\n",
    "                # adapt to different element naming b/w datasets\n",
    "                data.columns = data.iloc[0].map(lambda x: x.split()[0])\n",
    "                data = data.drop(data.index[0])\n",
    "                element = data.columns[0]\n",
    "                \n",
    "                # populate lists\n",
    "                elem_list.append(element)\n",
    "                filt_list.append(filter_n)\n",
    "\n",
    "                # calculate regression vectors\n",
    "                vector = pow(data, 2).sum().pow(.5)  #square root of sum of squares\n",
    "                \n",
    "                # calculate values\n",
    "                factors = {\n",
    "                    'LOB' : 1.645,\n",
    "                    'LOD' : 3.3,\n",
    "                    'LOQ' : 10\n",
    "                }\n",
    "\n",
    "                lob_list.append(factors['LOB'] * sensitivity * vector[0])\n",
    "                lod_list.append(factors['LOD'] * sensitivity * vector[0])\n",
    "                loq_list.append(factors['LOQ'] * sensitivity * vector[0])\n",
    "\n",
    "    # make dataframe\n",
    "    df = pd.DataFrame({\n",
    "        'element' : elem_list,\n",
    "        'filter' : filt_list,\n",
    "        'LOB' : lob_list,\n",
    "        'LOD' : lod_list,\n",
    "        'LOQ' : loq_list\n",
    "    })\n",
    "    \n",
    "    # change col formats\n",
    "    cols = df.columns.drop(['element', 'filter'])\n",
    "    df[cols] = df[cols].apply(pd.to_numeric)\n",
    "    \n",
    "    return df"
   ]
  },
  {
   "cell_type": "markdown",
   "id": "aa5b966f",
   "metadata": {},
   "source": [
    "#### Calculate RMSEPs"
   ]
  },
  {
   "cell_type": "code",
   "execution_count": 20,
   "id": "57b80c16",
   "metadata": {},
   "outputs": [],
   "source": [
    "def get_rmsep(folder, file_list, lbdq):\n",
    "    \n",
    "    print(\"RMSEP:\")\n",
    "    \n",
    "    elem_list = []\n",
    "    filt_list = []\n",
    "    avg_list = []\n",
    "    rmsep_list = []\n",
    "    r2_list = []\n",
    "    \n",
    "    for filter_n in ['O1', 'O2']:\n",
    "    \n",
    "        ftype = filter_n + \"_test\"\n",
    "\n",
    "        for file in tqdm(file_list):\n",
    "            if ftype in file:       \n",
    "                path = (folder + file)\n",
    "                data = pd.read_csv(path)\n",
    "\n",
    "                # get element\n",
    "                element = data.columns[1].split()[0]\n",
    "                elem_list.append(element)\n",
    "                filt_list.append(filter_n)\n",
    "\n",
    "                # format columns\n",
    "                data.columns = ['pkey', 'Actual', 'Pred']\n",
    "                data = data.drop([0])\n",
    "                data.Pred = data.Pred.astype(float)  \n",
    "\n",
    "                # remove predictions above 100 for majors\n",
    "                if len(element) > 2:\n",
    "                    data = data[data.Pred < 100]\n",
    "\n",
    "                # remove all predictions below 0\n",
    "                data = data[data.Pred > 0].reset_index(drop=True).sort_index(axis=1)\n",
    "\n",
    "                # order columns\n",
    "                data = data[['pkey', 'Actual', 'Pred']].drop_duplicates(subset = 'pkey').sort_values(by='pkey').reset_index(drop=True)\n",
    "\n",
    "                # subselect relevant reference values\n",
    "                ref = lbdq[(lbdq['element'].astype(str) == element) &\n",
    "                           (lbdq['filter'].astype(str) == filter_n)].reset_index(drop=True)\n",
    "\n",
    "                # add in Actual concentrations\n",
    "                temp_comps = comps[comps.pkey.isin(data.pkey)].reset_index(drop=True)                   \n",
    "                data['Actual'] = temp_comps[temp_comps['pkey'] == data['pkey']][element]\n",
    "\n",
    "                # remove NaN Actual values....which idk why they'd be there\n",
    "                data = data.dropna()\n",
    "\n",
    "                # calculate values\n",
    "                loq = ref['LOQ'].iloc[0]\n",
    "                # select just predictions above the LOQ\n",
    "                data = data[data.Pred > loq].reset_index(drop=True)\n",
    "                # get average concentration\n",
    "                avg = data['Actual'].mean()\n",
    "                avg_list.append(avg)\n",
    "                # get R2\n",
    "                if len(data) > 1:\n",
    "                    r2 = r2_score(data.Actual, data.Pred)\n",
    "                    r2_list.append(r2)\n",
    "                else: r2_list.append('Not enough test samples above LOQ')\n",
    "                # get RMSE-P\n",
    "                data['sqerror'] = (data.Actual - data.Pred).pow(2)\n",
    "                rmsep = data['sqerror'].mean() ** 0.5\n",
    "                rmsep_list.append(rmsep)\n",
    "\n",
    "    \n",
    "    df = pd.DataFrame({\n",
    "        \"element\" : elem_list,\n",
    "        \"filter\" : filt_list,\n",
    "        \"avg_comp\" : avg_list,\n",
    "        \"RMSEP\" : rmsep_list,\n",
    "        \"R2\" : r2_list,\n",
    "    })\n",
    "    \n",
    "    \n",
    "    return df"
   ]
  },
  {
   "cell_type": "code",
   "execution_count": 30,
   "id": "2f1bb8ee",
   "metadata": {},
   "outputs": [],
   "source": [
    "def get_results(regression, n_range):\n",
    "    \n",
    "    print('Calculating for', regression, n_range)\n",
    "\n",
    "    folder = fp+\"\\\\models\\\\\"+regression+\"\\\\\"+n_range+\"\\\\\"\n",
    "    file_list = os.listdir(folder)\n",
    "    if len(file_list) == 0:\n",
    "        print(\"\\tNo files\")\n",
    "        return\n",
    "\n",
    "    # calculate lbdq\n",
    "    lbdq = get_lbdq(folder, file_list)\n",
    "    # calculate rmsep with lbdq results\n",
    "    rmsep = get_rmsep(folder, file_list, lbdq)\n",
    "    # merge results\n",
    "    df = pd.merge(lbdq, rmsep, how='outer', on=['element', 'filter'])\n",
    "    df.insert(loc=2, column='num_range', value=n_range)\n",
    "    df.insert(loc=2, column='regression', value=regression)\n",
    "    # return full results\n",
    "    return df "
   ]
  },
  {
   "cell_type": "markdown",
   "id": "8df0dfea",
   "metadata": {},
   "source": [
    "### Conduct calculations"
   ]
  },
  {
   "cell_type": "code",
   "execution_count": 33,
   "id": "8db62ed8",
   "metadata": {},
   "outputs": [
    {
     "name": "stdout",
     "output_type": "stream",
     "text": [
      "Calculating for PLS 0-750\n",
      "LBDQ:\n"
     ]
    },
    {
     "data": {
      "application/vnd.jupyter.widget-view+json": {
       "model_id": "183998fce93a40af8a3228592486bb6f",
       "version_major": 2,
       "version_minor": 0
      },
      "text/plain": [
       "  0%|          | 0/240 [00:00<?, ?it/s]"
      ]
     },
     "metadata": {},
     "output_type": "display_data"
    },
    {
     "data": {
      "application/vnd.jupyter.widget-view+json": {
       "model_id": "3421e753d8f9433895675eb3bf80c952",
       "version_major": 2,
       "version_minor": 0
      },
      "text/plain": [
       "  0%|          | 0/240 [00:00<?, ?it/s]"
      ]
     },
     "metadata": {},
     "output_type": "display_data"
    },
    {
     "name": "stdout",
     "output_type": "stream",
     "text": [
      "RMSEP:\n"
     ]
    },
    {
     "data": {
      "application/vnd.jupyter.widget-view+json": {
       "model_id": "cf5f05916435469da933c48c314e2944",
       "version_major": 2,
       "version_minor": 0
      },
      "text/plain": [
       "  0%|          | 0/240 [00:00<?, ?it/s]"
      ]
     },
     "metadata": {},
     "output_type": "display_data"
    },
    {
     "data": {
      "application/vnd.jupyter.widget-view+json": {
       "model_id": "c2a0ecd101804aac8b6bd353e40a8d52",
       "version_major": 2,
       "version_minor": 0
      },
      "text/plain": [
       "  0%|          | 0/240 [00:00<?, ?it/s]"
      ]
     },
     "metadata": {},
     "output_type": "display_data"
    },
    {
     "name": "stdout",
     "output_type": "stream",
     "text": [
      "Calculating for PLS 250-1000\n",
      "LBDQ:\n"
     ]
    },
    {
     "data": {
      "application/vnd.jupyter.widget-view+json": {
       "model_id": "55883dbcaca94afcb33f1eef0b276dea",
       "version_major": 2,
       "version_minor": 0
      },
      "text/plain": [
       "  0%|          | 0/240 [00:00<?, ?it/s]"
      ]
     },
     "metadata": {},
     "output_type": "display_data"
    },
    {
     "data": {
      "application/vnd.jupyter.widget-view+json": {
       "model_id": "12664c0081644ed7b87b5978bb02971d",
       "version_major": 2,
       "version_minor": 0
      },
      "text/plain": [
       "  0%|          | 0/240 [00:00<?, ?it/s]"
      ]
     },
     "metadata": {},
     "output_type": "display_data"
    },
    {
     "name": "stdout",
     "output_type": "stream",
     "text": [
      "RMSEP:\n"
     ]
    },
    {
     "data": {
      "application/vnd.jupyter.widget-view+json": {
       "model_id": "5e21828022784203b95b79aac6f97676",
       "version_major": 2,
       "version_minor": 0
      },
      "text/plain": [
       "  0%|          | 0/240 [00:00<?, ?it/s]"
      ]
     },
     "metadata": {},
     "output_type": "display_data"
    },
    {
     "data": {
      "application/vnd.jupyter.widget-view+json": {
       "model_id": "674f4e18bf26472b917451c527978fd3",
       "version_major": 2,
       "version_minor": 0
      },
      "text/plain": [
       "  0%|          | 0/240 [00:00<?, ?it/s]"
      ]
     },
     "metadata": {},
     "output_type": "display_data"
    },
    {
     "name": "stdout",
     "output_type": "stream",
     "text": [
      "Calculating for PLS all\n",
      "LBDQ:\n"
     ]
    },
    {
     "data": {
      "application/vnd.jupyter.widget-view+json": {
       "model_id": "4b63071530af412bb893339fe979f492",
       "version_major": 2,
       "version_minor": 0
      },
      "text/plain": [
       "  0%|          | 0/180 [00:00<?, ?it/s]"
      ]
     },
     "metadata": {},
     "output_type": "display_data"
    },
    {
     "data": {
      "application/vnd.jupyter.widget-view+json": {
       "model_id": "f5f5f2af4d3a4eba96b0bd7ba194f456",
       "version_major": 2,
       "version_minor": 0
      },
      "text/plain": [
       "  0%|          | 0/180 [00:00<?, ?it/s]"
      ]
     },
     "metadata": {},
     "output_type": "display_data"
    },
    {
     "name": "stdout",
     "output_type": "stream",
     "text": [
      "RMSEP:\n"
     ]
    },
    {
     "data": {
      "application/vnd.jupyter.widget-view+json": {
       "model_id": "76b8e4d219864f1683e5ce44a7bd2824",
       "version_major": 2,
       "version_minor": 0
      },
      "text/plain": [
       "  0%|          | 0/180 [00:00<?, ?it/s]"
      ]
     },
     "metadata": {},
     "output_type": "display_data"
    },
    {
     "data": {
      "application/vnd.jupyter.widget-view+json": {
       "model_id": "e01f9f6399e94d99b47728bb9c272e77",
       "version_major": 2,
       "version_minor": 0
      },
      "text/plain": [
       "  0%|          | 0/180 [00:00<?, ?it/s]"
      ]
     },
     "metadata": {},
     "output_type": "display_data"
    },
    {
     "name": "stdout",
     "output_type": "stream",
     "text": [
      "Calculating for lasso 0-750\n",
      "LBDQ:\n"
     ]
    },
    {
     "data": {
      "application/vnd.jupyter.widget-view+json": {
       "model_id": "c582e787e67a4f91a8dfb0fd55e8682f",
       "version_major": 2,
       "version_minor": 0
      },
      "text/plain": [
       "  0%|          | 0/240 [00:00<?, ?it/s]"
      ]
     },
     "metadata": {},
     "output_type": "display_data"
    },
    {
     "data": {
      "application/vnd.jupyter.widget-view+json": {
       "model_id": "4fcd4e04dfd143dfa7cac92c3eb57faf",
       "version_major": 2,
       "version_minor": 0
      },
      "text/plain": [
       "  0%|          | 0/240 [00:00<?, ?it/s]"
      ]
     },
     "metadata": {},
     "output_type": "display_data"
    },
    {
     "name": "stdout",
     "output_type": "stream",
     "text": [
      "RMSEP:\n"
     ]
    },
    {
     "data": {
      "application/vnd.jupyter.widget-view+json": {
       "model_id": "94189fe177a546dba853e7de8171fcc8",
       "version_major": 2,
       "version_minor": 0
      },
      "text/plain": [
       "  0%|          | 0/240 [00:00<?, ?it/s]"
      ]
     },
     "metadata": {},
     "output_type": "display_data"
    },
    {
     "data": {
      "application/vnd.jupyter.widget-view+json": {
       "model_id": "5955bf0d96004e5cad2a845955daad6e",
       "version_major": 2,
       "version_minor": 0
      },
      "text/plain": [
       "  0%|          | 0/240 [00:00<?, ?it/s]"
      ]
     },
     "metadata": {},
     "output_type": "display_data"
    },
    {
     "name": "stdout",
     "output_type": "stream",
     "text": [
      "Calculating for lasso 250-1000\n",
      "LBDQ:\n"
     ]
    },
    {
     "data": {
      "application/vnd.jupyter.widget-view+json": {
       "model_id": "da6b8e1bf01b4393a7dae0716a2004c5",
       "version_major": 2,
       "version_minor": 0
      },
      "text/plain": [
       "  0%|          | 0/240 [00:00<?, ?it/s]"
      ]
     },
     "metadata": {},
     "output_type": "display_data"
    },
    {
     "data": {
      "application/vnd.jupyter.widget-view+json": {
       "model_id": "811b8016f0ed4237bf4af769e202ee48",
       "version_major": 2,
       "version_minor": 0
      },
      "text/plain": [
       "  0%|          | 0/240 [00:00<?, ?it/s]"
      ]
     },
     "metadata": {},
     "output_type": "display_data"
    },
    {
     "name": "stdout",
     "output_type": "stream",
     "text": [
      "RMSEP:\n"
     ]
    },
    {
     "data": {
      "application/vnd.jupyter.widget-view+json": {
       "model_id": "76bfe732c16b41a18570e9f1f3e2d5c5",
       "version_major": 2,
       "version_minor": 0
      },
      "text/plain": [
       "  0%|          | 0/240 [00:00<?, ?it/s]"
      ]
     },
     "metadata": {},
     "output_type": "display_data"
    },
    {
     "data": {
      "application/vnd.jupyter.widget-view+json": {
       "model_id": "0403947cceb143e5bc31287ddbebfe67",
       "version_major": 2,
       "version_minor": 0
      },
      "text/plain": [
       "  0%|          | 0/240 [00:00<?, ?it/s]"
      ]
     },
     "metadata": {},
     "output_type": "display_data"
    },
    {
     "name": "stdout",
     "output_type": "stream",
     "text": [
      "Calculating for lasso all\n",
      "LBDQ:\n"
     ]
    },
    {
     "data": {
      "application/vnd.jupyter.widget-view+json": {
       "model_id": "a621383b62544c2b82e157e8c3fc136c",
       "version_major": 2,
       "version_minor": 0
      },
      "text/plain": [
       "  0%|          | 0/177 [00:00<?, ?it/s]"
      ]
     },
     "metadata": {},
     "output_type": "display_data"
    },
    {
     "data": {
      "application/vnd.jupyter.widget-view+json": {
       "model_id": "bc7e4017978146b992165a49b859200a",
       "version_major": 2,
       "version_minor": 0
      },
      "text/plain": [
       "  0%|          | 0/177 [00:00<?, ?it/s]"
      ]
     },
     "metadata": {},
     "output_type": "display_data"
    },
    {
     "name": "stdout",
     "output_type": "stream",
     "text": [
      "RMSEP:\n"
     ]
    },
    {
     "data": {
      "application/vnd.jupyter.widget-view+json": {
       "model_id": "7bda33ee1d49476ea26f820b36f01031",
       "version_major": 2,
       "version_minor": 0
      },
      "text/plain": [
       "  0%|          | 0/177 [00:00<?, ?it/s]"
      ]
     },
     "metadata": {},
     "output_type": "display_data"
    },
    {
     "data": {
      "application/vnd.jupyter.widget-view+json": {
       "model_id": "bda4f2e42e7942048e3868026ea5b5d8",
       "version_major": 2,
       "version_minor": 0
      },
      "text/plain": [
       "  0%|          | 0/177 [00:00<?, ?it/s]"
      ]
     },
     "metadata": {},
     "output_type": "display_data"
    },
    {
     "data": {
      "text/html": [
       "<div>\n",
       "<style scoped>\n",
       "    .dataframe tbody tr th:only-of-type {\n",
       "        vertical-align: middle;\n",
       "    }\n",
       "\n",
       "    .dataframe tbody tr th {\n",
       "        vertical-align: top;\n",
       "    }\n",
       "\n",
       "    .dataframe thead th {\n",
       "        text-align: right;\n",
       "    }\n",
       "</style>\n",
       "<table border=\"1\" class=\"dataframe\">\n",
       "  <thead>\n",
       "    <tr style=\"text-align: right;\">\n",
       "      <th></th>\n",
       "      <th>element</th>\n",
       "      <th>filter</th>\n",
       "      <th>regression</th>\n",
       "      <th>num_range</th>\n",
       "      <th>LOB</th>\n",
       "      <th>LOD</th>\n",
       "      <th>LOQ</th>\n",
       "      <th>avg_comp</th>\n",
       "      <th>RMSEP</th>\n",
       "      <th>R2</th>\n",
       "    </tr>\n",
       "  </thead>\n",
       "  <tbody>\n",
       "    <tr>\n",
       "      <th>0</th>\n",
       "      <td>Al2O3</td>\n",
       "      <td>O1</td>\n",
       "      <td>PLS</td>\n",
       "      <td>0-750</td>\n",
       "      <td>0.079006</td>\n",
       "      <td>0.158492</td>\n",
       "      <td>0.480279</td>\n",
       "      <td>13.802851</td>\n",
       "      <td>2.953625</td>\n",
       "      <td>0.292765</td>\n",
       "    </tr>\n",
       "    <tr>\n",
       "      <th>1</th>\n",
       "      <td>CaO</td>\n",
       "      <td>O1</td>\n",
       "      <td>PLS</td>\n",
       "      <td>0-750</td>\n",
       "      <td>0.081649</td>\n",
       "      <td>0.163794</td>\n",
       "      <td>0.496346</td>\n",
       "      <td>6.539167</td>\n",
       "      <td>2.426925</td>\n",
       "      <td>0.708863</td>\n",
       "    </tr>\n",
       "    <tr>\n",
       "      <th>2</th>\n",
       "      <td>Fe2O3</td>\n",
       "      <td>O1</td>\n",
       "      <td>PLS</td>\n",
       "      <td>0-750</td>\n",
       "      <td>0.008947</td>\n",
       "      <td>0.017949</td>\n",
       "      <td>0.054392</td>\n",
       "      <td>8.092070</td>\n",
       "      <td>1.314764</td>\n",
       "      <td>0.924568</td>\n",
       "    </tr>\n",
       "    <tr>\n",
       "      <th>3</th>\n",
       "      <td>MgO</td>\n",
       "      <td>O1</td>\n",
       "      <td>PLS</td>\n",
       "      <td>0-750</td>\n",
       "      <td>0.006960</td>\n",
       "      <td>0.013963</td>\n",
       "      <td>0.042312</td>\n",
       "      <td>6.258273</td>\n",
       "      <td>5.231678</td>\n",
       "      <td>0.328343</td>\n",
       "    </tr>\n",
       "    <tr>\n",
       "      <th>4</th>\n",
       "      <td>MnO</td>\n",
       "      <td>O1</td>\n",
       "      <td>PLS</td>\n",
       "      <td>0-750</td>\n",
       "      <td>0.008493</td>\n",
       "      <td>0.017038</td>\n",
       "      <td>0.051632</td>\n",
       "      <td>0.165387</td>\n",
       "      <td>0.058478</td>\n",
       "      <td>0.932526</td>\n",
       "    </tr>\n",
       "    <tr>\n",
       "      <th>...</th>\n",
       "      <td>...</td>\n",
       "      <td>...</td>\n",
       "      <td>...</td>\n",
       "      <td>...</td>\n",
       "      <td>...</td>\n",
       "      <td>...</td>\n",
       "      <td>...</td>\n",
       "      <td>...</td>\n",
       "      <td>...</td>\n",
       "      <td>...</td>\n",
       "    </tr>\n",
       "    <tr>\n",
       "      <th>355</th>\n",
       "      <td>V</td>\n",
       "      <td>O2</td>\n",
       "      <td>lasso</td>\n",
       "      <td>all</td>\n",
       "      <td>41.458137</td>\n",
       "      <td>83.168300</td>\n",
       "      <td>252.025150</td>\n",
       "      <td>NaN</td>\n",
       "      <td>NaN</td>\n",
       "      <td>NaN</td>\n",
       "    </tr>\n",
       "    <tr>\n",
       "      <th>356</th>\n",
       "      <td>W</td>\n",
       "      <td>O2</td>\n",
       "      <td>lasso</td>\n",
       "      <td>all</td>\n",
       "      <td>2.326984</td>\n",
       "      <td>4.668114</td>\n",
       "      <td>14.145799</td>\n",
       "      <td>NaN</td>\n",
       "      <td>NaN</td>\n",
       "      <td>NaN</td>\n",
       "    </tr>\n",
       "    <tr>\n",
       "      <th>357</th>\n",
       "      <td>Y</td>\n",
       "      <td>O2</td>\n",
       "      <td>lasso</td>\n",
       "      <td>all</td>\n",
       "      <td>1.714465</td>\n",
       "      <td>3.439352</td>\n",
       "      <td>10.422280</td>\n",
       "      <td>NaN</td>\n",
       "      <td>NaN</td>\n",
       "      <td>NaN</td>\n",
       "    </tr>\n",
       "    <tr>\n",
       "      <th>358</th>\n",
       "      <td>Zn</td>\n",
       "      <td>O2</td>\n",
       "      <td>lasso</td>\n",
       "      <td>all</td>\n",
       "      <td>11.725278</td>\n",
       "      <td>23.521834</td>\n",
       "      <td>71.278283</td>\n",
       "      <td>NaN</td>\n",
       "      <td>NaN</td>\n",
       "      <td>NaN</td>\n",
       "    </tr>\n",
       "    <tr>\n",
       "      <th>359</th>\n",
       "      <td>U</td>\n",
       "      <td>O2</td>\n",
       "      <td>lasso</td>\n",
       "      <td>all</td>\n",
       "      <td>0.560111</td>\n",
       "      <td>1.123626</td>\n",
       "      <td>3.404927</td>\n",
       "      <td>NaN</td>\n",
       "      <td>NaN</td>\n",
       "      <td>NaN</td>\n",
       "    </tr>\n",
       "  </tbody>\n",
       "</table>\n",
       "<p>360 rows × 10 columns</p>\n",
       "</div>"
      ],
      "text/plain": [
       "    element filter regression num_range        LOB        LOD         LOQ  \\\n",
       "0     Al2O3     O1        PLS     0-750   0.079006   0.158492    0.480279   \n",
       "1       CaO     O1        PLS     0-750   0.081649   0.163794    0.496346   \n",
       "2     Fe2O3     O1        PLS     0-750   0.008947   0.017949    0.054392   \n",
       "3       MgO     O1        PLS     0-750   0.006960   0.013963    0.042312   \n",
       "4       MnO     O1        PLS     0-750   0.008493   0.017038    0.051632   \n",
       "..      ...    ...        ...       ...        ...        ...         ...   \n",
       "355       V     O2      lasso       all  41.458137  83.168300  252.025150   \n",
       "356       W     O2      lasso       all   2.326984   4.668114   14.145799   \n",
       "357       Y     O2      lasso       all   1.714465   3.439352   10.422280   \n",
       "358      Zn     O2      lasso       all  11.725278  23.521834   71.278283   \n",
       "359       U     O2      lasso       all   0.560111   1.123626    3.404927   \n",
       "\n",
       "      avg_comp     RMSEP        R2  \n",
       "0    13.802851  2.953625  0.292765  \n",
       "1     6.539167  2.426925  0.708863  \n",
       "2     8.092070  1.314764  0.924568  \n",
       "3     6.258273  5.231678  0.328343  \n",
       "4     0.165387  0.058478  0.932526  \n",
       "..         ...       ...       ...  \n",
       "355        NaN       NaN       NaN  \n",
       "356        NaN       NaN       NaN  \n",
       "357        NaN       NaN       NaN  \n",
       "358        NaN       NaN       NaN  \n",
       "359        NaN       NaN       NaN  \n",
       "\n",
       "[360 rows x 10 columns]"
      ]
     },
     "execution_count": 33,
     "metadata": {},
     "output_type": "execute_result"
    }
   ],
   "source": [
    "# get results for all data\n",
    "full_table = pd.DataFrame()\n",
    "\n",
    "regressions = ['PLS', 'lasso']\n",
    "regions = ['0-750', '250-1000', 'all']\n",
    "\n",
    "for regression in regressions:\n",
    "    for region in regions:\n",
    "        results = get_results(regression, region)\n",
    "        full_table = pd.concat([full_table, results], ignore_index=True)\n",
    "        \n",
    "full_table.reindex(columns=['element',\n",
    "                            'filter',\n",
    "                            'regression',\n",
    "                            'num_range',\n",
    "                            'avg_comp',\n",
    "                            'LOB',\n",
    "                            'LOD',\n",
    "                            'LOQ',\n",
    "                            'RMSEP',\n",
    "                            'R2'])\n",
    "\n",
    "full_table"
   ]
  },
  {
   "cell_type": "markdown",
   "id": "a811f19f",
   "metadata": {},
   "source": [
    "#### Export"
   ]
  },
  {
   "cell_type": "code",
   "execution_count": 32,
   "id": "71021a82",
   "metadata": {},
   "outputs": [],
   "source": [
    "full_epath = fp + \"full_results_table.csv\"\n",
    "full_table.to_csv(full_epath, index=False)"
   ]
  }
 ],
 "metadata": {
  "kernelspec": {
   "display_name": "Python 3 (ipykernel)",
   "language": "python",
   "name": "python3"
  },
  "language_info": {
   "codemirror_mode": {
    "name": "ipython",
    "version": 3
   },
   "file_extension": ".py",
   "mimetype": "text/x-python",
   "name": "python",
   "nbconvert_exporter": "python",
   "pygments_lexer": "ipython3",
   "version": "3.8.8"
  }
 },
 "nbformat": 4,
 "nbformat_minor": 5
}
